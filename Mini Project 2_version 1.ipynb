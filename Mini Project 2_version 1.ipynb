{
 "cells": [
  {
   "cell_type": "code",
   "execution_count": 1,
   "id": "1a376ae0",
   "metadata": {},
   "outputs": [],
   "source": [
    "import pandas as pd \n",
    "import numpy as np\n",
    "from urllib.request import urlopen as u\n",
    "from bs4 import BeautifulSoup as s"
   ]
  },
  {
   "cell_type": "code",
   "execution_count": 2,
   "id": "09d930d4",
   "metadata": {},
   "outputs": [],
   "source": [
    "## DATA COLLECTION USING WEB SCRAPING ##\n",
    "link=\"https://www.flipkart.com/search?q=hp+laptop+i5+11th+generation&as=on&as-show=on&otracker=AS_Query_OrganicAutoSuggest_6_2_na_na_na&otracker1=AS_Query_OrganicAutoSuggest_6_2_na_na_na&as-pos=6&as-type=RECENT&suggestionId=hp+laptop+i5+11th+generation&requestId=e9fa3129-0e28-4c71-8e4c-a8d277a40c33&as-searchtext=hp\"\n",
    "pagecontent=u(link)\n",
    "pagecode=pagecontent.read()"
   ]
  },
  {
   "cell_type": "code",
   "execution_count": null,
   "id": "1187494c",
   "metadata": {},
   "outputs": [],
   "source": [
    "pagecode"
   ]
  },
  {
   "cell_type": "code",
   "execution_count": 4,
   "id": "38c403ab",
   "metadata": {},
   "outputs": [],
   "source": [
    "page_file=s(pagecode)"
   ]
  },
  {
   "cell_type": "code",
   "execution_count": null,
   "id": "243a7251",
   "metadata": {},
   "outputs": [],
   "source": [
    "print(page_file.prettify())"
   ]
  },
  {
   "cell_type": "code",
   "execution_count": 6,
   "id": "525fdbd3",
   "metadata": {},
   "outputs": [
    {
     "name": "stdout",
     "output_type": "stream",
     "text": [
      "HP Pavilion x360 Convertible Core i5 11th Gen - (16 GB/512 GB SSD/Windows 10 Home) 14-dy0053TU Thin an...\n"
     ]
    }
   ],
   "source": [
    "#Extracting single product name\n",
    "modelname=page_file.find(\"div\",{\"class\":'_4rR01T'})\n",
    "print(modelname.text)"
   ]
  },
  {
   "cell_type": "code",
   "execution_count": 7,
   "id": "b00ecec4",
   "metadata": {},
   "outputs": [
    {
     "data": {
      "text/plain": [
       "['HP Pavilion x360 Convertible Core i5 11th Gen - (16 GB/512 GB SSD/Windows 10 Home) 14-dy0053TU Thin an...',\n",
       " 'HP 14s Core i5 11th Gen - (8 GB/512 GB SSD/Windows 10 Home) 14s- DQ2535TU Thin and Light Laptop',\n",
       " 'HP Core i5 11th Gen - (8 GB + 32 GB Optane/512 GB SSD/Windows 10 Home) 15s-FQ2071TU Thin and Light Lap...',\n",
       " 'HP Pavilion Core i5 11th Gen - (16 GB/512 GB SSD/Windows 11 Home) 14-dv1001TU Thin and Light Laptop',\n",
       " 'HP Pavilion Core i5 11th Gen - (16 GB/512 GB SSD/Windows 11 Home) 14-dv1002TU Thin and Light Laptop',\n",
       " 'HP HP Envy Core i5 11th Gen - (16 GB/512 GB SSD/Windows 10 Home/4 GB Graphics) 14-eb0019TX Thin and Li...',\n",
       " 'HP Spectre x360 13 Series Core i5 11th Gen - (8 GB/512 GB SSD/Windows 10 Home) 13-aw2003TU Thin and Li...',\n",
       " 'HP Pavilion Core i5 11th Gen - (8 GB/512 GB SSD/Windows 11 Home/4 GB Graphics/NVIDIA GeForce GTX GTX 1...',\n",
       " 'HP Pavilion x360 Core i5 11th Gen - (8 GB/512 GB SSD/Windows 10 Home) 14-dy0003TU Thin and Light Lapto...',\n",
       " 'HP Pavilion Core i5 11th Gen - (16 GB/512 GB SSD/Windows 10 Home) 14-dv0054TU Thin and Light Laptop',\n",
       " 'HP Pavilion x360 Core i5 11th Gen - (8 GB/512 GB SSD/Windows 10 Home) 14-dw1039TU 2 in 1 Laptop',\n",
       " 'HP Pavilion Core i5 11th Gen - (8 GB/512 GB SSD/Windows 11 Home) 14-dv1000TU Thin and Light Laptop',\n",
       " 'HP Core i3 11th Gen - (8 GB/512 GB SSD/Windows 11 Home) 15s-du3563TU Thin and Light Laptop',\n",
       " 'HP Pavilion Core i5 11th Gen - (16 GB/512 GB SSD/Windows 10 Home) 13-bb0075TU Thin and Light Laptop',\n",
       " 'HP HP Envy Core i5 11th Gen - (16 GB/512 GB SSD/Windows 10 Home/2 GB Graphics) 13-ba1501TX Thin and Li...',\n",
       " 'HP 15s Core i5 11th Gen - (8 GB/1 TB HDD/Windows 10 Home) 15s-du3032TU Thin and Light Laptop',\n",
       " 'HP 15s Core i5 11th Gen - (8 GB/1 TB HDD/Windows 10 Home/2 GB Graphics) 15s-du3060TX Thin and Light La...',\n",
       " 'HP Pavilion Gaming Core i5 11th Gen - (8 GB/512 GB SSD/Windows 10 Home/4 GB Graphics/NVIDIA GeForce RT...',\n",
       " 'HP Pavilion Core i7 11th Gen - (16 GB/1 TB SSD/Windows 10 Home) 14-dv0058TU Thin and Light Laptop',\n",
       " 'HP Pavilion Core i5 11th Gen - (8 GB/512 GB SSD/Windows 11 Home) 15-eg1000TU Thin and Light Laptop',\n",
       " 'HP Core i3 11th Gen - (8 GB/1 TB HDD/Windows 10 Home) 15s-du3055TU Thin and Light Laptop',\n",
       " 'HP HP Pavilion Core i5 11th Gen - (16 GB/512 GB SSD/Windows 10 Home) 14-dv0055TU Thin and Light Laptop',\n",
       " 'HP Pavilion x360 Convertible Core i7 11th Gen - (16 GB/512 GB SSD/Windows 10 Home) 14-dy0050TU Thin an...',\n",
       " 'HP Pavilion Core i5 11th Gen - (16 GB/512 GB SSD/Windows 10 Home/2 GB Graphics) 14-dv0084TX Thin and L...']"
      ]
     },
     "execution_count": 7,
     "metadata": {},
     "output_type": "execute_result"
    }
   ],
   "source": [
    "#Extracting the whole product name \n",
    "productname_1=[]\n",
    "modelname=page_file.findAll(\"div\",{\"class\":'_4rR01T'})\n",
    "for i in modelname:\n",
    "    p=i.text\n",
    "    productname_1.append(p)\n",
    "productname_1"
   ]
  },
  {
   "cell_type": "code",
   "execution_count": 8,
   "id": "959f648b",
   "metadata": {},
   "outputs": [],
   "source": [
    "del productname_1[10:]  # for taking 10 values deleting other values"
   ]
  },
  {
   "cell_type": "code",
   "execution_count": 9,
   "id": "74647b32",
   "metadata": {},
   "outputs": [
    {
     "data": {
      "text/plain": [
       "['HP Pavilion x360 Convertible Core i5 11th Gen - (16 GB/512 GB SSD/Windows 10 Home) 14-dy0053TU Thin an...',\n",
       " 'HP 14s Core i5 11th Gen - (8 GB/512 GB SSD/Windows 10 Home) 14s- DQ2535TU Thin and Light Laptop',\n",
       " 'HP Core i5 11th Gen - (8 GB + 32 GB Optane/512 GB SSD/Windows 10 Home) 15s-FQ2071TU Thin and Light Lap...',\n",
       " 'HP Pavilion Core i5 11th Gen - (16 GB/512 GB SSD/Windows 11 Home) 14-dv1001TU Thin and Light Laptop',\n",
       " 'HP Pavilion Core i5 11th Gen - (16 GB/512 GB SSD/Windows 11 Home) 14-dv1002TU Thin and Light Laptop',\n",
       " 'HP HP Envy Core i5 11th Gen - (16 GB/512 GB SSD/Windows 10 Home/4 GB Graphics) 14-eb0019TX Thin and Li...',\n",
       " 'HP Spectre x360 13 Series Core i5 11th Gen - (8 GB/512 GB SSD/Windows 10 Home) 13-aw2003TU Thin and Li...',\n",
       " 'HP Pavilion Core i5 11th Gen - (8 GB/512 GB SSD/Windows 11 Home/4 GB Graphics/NVIDIA GeForce GTX GTX 1...',\n",
       " 'HP Pavilion x360 Core i5 11th Gen - (8 GB/512 GB SSD/Windows 10 Home) 14-dy0003TU Thin and Light Lapto...',\n",
       " 'HP Pavilion Core i5 11th Gen - (16 GB/512 GB SSD/Windows 10 Home) 14-dv0054TU Thin and Light Laptop']"
      ]
     },
     "execution_count": 9,
     "metadata": {},
     "output_type": "execute_result"
    }
   ],
   "source": [
    "len(productname_1)   #finding length of the productname_!\n",
    "productname_1"
   ]
  },
  {
   "cell_type": "code",
   "execution_count": 10,
   "id": "d8340a5a",
   "metadata": {},
   "outputs": [
    {
     "data": {
      "text/plain": [
       "['12% off',\n",
       " '8% off',\n",
       " '8% off',\n",
       " '14% off',\n",
       " '17% off',\n",
       " '11% off',\n",
       " '11% off',\n",
       " '15% off',\n",
       " '12% off',\n",
       " '8% off',\n",
       " '11% off',\n",
       " '15% off',\n",
       " '13% off',\n",
       " '6% off',\n",
       " '15% off',\n",
       " '9% off',\n",
       " '11% off',\n",
       " '17% off',\n",
       " '7% off',\n",
       " '15% off',\n",
       " '11% off',\n",
       " '7% off',\n",
       " '11% off',\n",
       " '7% off',\n",
       " '15% off',\n",
       " '11% off',\n",
       " '8% off',\n",
       " '7% off',\n",
       " '13% off']"
      ]
     },
     "execution_count": 10,
     "metadata": {},
     "output_type": "execute_result"
    }
   ],
   "source": [
    "#Extracting the Discount1\n",
    "Discount1=[]\n",
    "dr=page_file.findAll(\"div\",{\"class\":'_3Ay6Sb'})\n",
    "for i in dr:\n",
    "    p=i.text\n",
    "    Discount1.append(p)\n",
    "Discount1"
   ]
  },
  {
   "cell_type": "code",
   "execution_count": 11,
   "id": "666d8ac5",
   "metadata": {},
   "outputs": [
    {
     "data": {
      "text/plain": [
       "29"
      ]
     },
     "execution_count": 11,
     "metadata": {},
     "output_type": "execute_result"
    }
   ],
   "source": [
    "len(Discount1)   #finding length of the Discount1"
   ]
  },
  {
   "cell_type": "code",
   "execution_count": 12,
   "id": "742a43f0",
   "metadata": {},
   "outputs": [
    {
     "data": {
      "text/plain": [
       "['12% off',\n",
       " '8% off',\n",
       " '8% off',\n",
       " '14% off',\n",
       " '17% off',\n",
       " '11% off',\n",
       " '11% off',\n",
       " '15% off',\n",
       " '12% off',\n",
       " '8% off']"
      ]
     },
     "execution_count": 12,
     "metadata": {},
     "output_type": "execute_result"
    }
   ],
   "source": [
    "del Discount1[10:]   #for taking 10 values deleting other values\n",
    "Discount1"
   ]
  },
  {
   "cell_type": "code",
   "execution_count": 13,
   "id": "a6732d65",
   "metadata": {},
   "outputs": [
    {
     "data": {
      "text/plain": [
       "['₹70,990',\n",
       " '₹57,990',\n",
       " '₹57,999',\n",
       " '₹67,990',\n",
       " '₹65,549',\n",
       " '₹99,990',\n",
       " '₹1,01,990',\n",
       " '₹73,890',\n",
       " '₹68,990',\n",
       " '₹72,990',\n",
       " '₹78,000',\n",
       " '₹62,990',\n",
       " '₹42,740',\n",
       " '₹75,000',\n",
       " '₹79,990',\n",
       " '₹56,999',\n",
       " '₹56,990',\n",
       " '₹76,990',\n",
       " '₹84,990',\n",
       " '₹64,999',\n",
       " '₹41,990',\n",
       " '₹66,990',\n",
       " '₹84,990',\n",
       " '₹79,000']"
      ]
     },
     "execution_count": 13,
     "metadata": {},
     "output_type": "execute_result"
    }
   ],
   "source": [
    "#Extracting the prices\n",
    "price_1=[]\n",
    "pr=page_file.findAll(\"div\",{\"class\":'_30jeq3 _1_WHN1'})\n",
    "for i in pr:\n",
    "    p=i.text\n",
    "    price_1.append(p)\n",
    "price_1"
   ]
  },
  {
   "cell_type": "code",
   "execution_count": 14,
   "id": "b27afcc2",
   "metadata": {},
   "outputs": [
    {
     "data": {
      "text/plain": [
       "24"
      ]
     },
     "execution_count": 14,
     "metadata": {},
     "output_type": "execute_result"
    }
   ],
   "source": [
    "len(price_1)  #finding length of the prices_1"
   ]
  },
  {
   "cell_type": "code",
   "execution_count": 15,
   "id": "9a9aedfe",
   "metadata": {},
   "outputs": [
    {
     "name": "stdout",
     "output_type": "stream",
     "text": [
      "[70990, 57990, 57999, 67990, 65549, 99990, 101990, 73890, 68990, 72990, 78000, 62990, 42740, 75000, 79990, 56999, 56990, 76990, 84990, 64999, 41990, 66990, 84990, 79000]\n"
     ]
    }
   ],
   "source": [
    "#Extracting new price\n",
    "PRICE_1=[]     #with discount - new price\n",
    "b=page_file.findAll(\"div\",{\"class\":'_30jeq3 _1_WHN1'})\n",
    "for i in b:\n",
    "    y=i.text\n",
    "    PRICE_1.append(int(y[1:].replace(',','')))\n",
    "print(PRICE_1)"
   ]
  },
  {
   "cell_type": "code",
   "execution_count": 16,
   "id": "52bebea0",
   "metadata": {},
   "outputs": [
    {
     "data": {
      "text/plain": [
       "[70990, 57990, 57999, 67990, 65549, 99990, 101990, 73890, 68990, 72990]"
      ]
     },
     "execution_count": 16,
     "metadata": {},
     "output_type": "execute_result"
    }
   ],
   "source": [
    "del PRICE_1[10:]   #for taking 10 values deleting other values\n",
    "PRICE_1"
   ]
  },
  {
   "cell_type": "code",
   "execution_count": 17,
   "id": "851608bb",
   "metadata": {},
   "outputs": [
    {
     "name": "stdout",
     "output_type": "stream",
     "text": [
      "[81356, 63179, 63626, 79445, 79444, 113000, 114749, 87717, 78478, 79990, 88075, 74839, 49590, 79999, 95092, 63179, 64300, 93565, 92109, 77327, 47264, 72536, 95749, 85000]\n"
     ]
    }
   ],
   "source": [
    "#Extracting original price\n",
    "PRICE_2=[]      #without discount original price\n",
    "b=page_file.findAll(\"div\",{\"class\":'_3I9_wc _27UcVY'})\n",
    "for i in b:\n",
    "    y=i.text\n",
    "    PRICE_2.append(int(y[1:].replace(',','')))\n",
    "print(PRICE_2)"
   ]
  },
  {
   "cell_type": "code",
   "execution_count": 18,
   "id": "e5056791",
   "metadata": {},
   "outputs": [
    {
     "data": {
      "text/plain": [
       "[81356, 63179, 63626, 79445, 79444, 113000, 114749, 87717, 78478, 79990]"
      ]
     },
     "execution_count": 18,
     "metadata": {},
     "output_type": "execute_result"
    }
   ],
   "source": [
    "del PRICE_2[10:]   #for taking 10 values deleting other values\n",
    "PRICE_2"
   ]
  },
  {
   "cell_type": "code",
   "execution_count": 19,
   "id": "308fab69",
   "metadata": {},
   "outputs": [
    {
     "data": {
      "text/plain": [
       "[10366, 5189, 5627, 11455, 13895, 13010, 12759, 13827, 9488, 7000]"
      ]
     },
     "execution_count": 19,
     "metadata": {},
     "output_type": "execute_result"
    }
   ],
   "source": [
    "#Finding discount price by subtracting new price from original price\n",
    "DisPrice_1=[]\n",
    "for i in range(len(PRICE_2)):\n",
    "    price=PRICE_2[i]-PRICE_1[i]\n",
    "    DisPrice_1.append(price)\n",
    "DisPrice_1"
   ]
  },
  {
   "cell_type": "code",
   "execution_count": 20,
   "id": "297dae3f",
   "metadata": {},
   "outputs": [],
   "source": [
    "# Creating dictionary & adding necessary details\n",
    "import pandas as pd\n",
    "d1={'productname_1':productname_1,'PRICE_1':PRICE_1,'PRICE_2':PRICE_2,'Discount_1':DisPrice_1}\n",
    "df1=pd.DataFrame(d1)"
   ]
  },
  {
   "cell_type": "code",
   "execution_count": 21,
   "id": "015acbfc",
   "metadata": {},
   "outputs": [
    {
     "data": {
      "text/html": [
       "<div>\n",
       "<style scoped>\n",
       "    .dataframe tbody tr th:only-of-type {\n",
       "        vertical-align: middle;\n",
       "    }\n",
       "\n",
       "    .dataframe tbody tr th {\n",
       "        vertical-align: top;\n",
       "    }\n",
       "\n",
       "    .dataframe thead th {\n",
       "        text-align: right;\n",
       "    }\n",
       "</style>\n",
       "<table border=\"1\" class=\"dataframe\">\n",
       "  <thead>\n",
       "    <tr style=\"text-align: right;\">\n",
       "      <th></th>\n",
       "      <th>productname_1</th>\n",
       "      <th>PRICE_1</th>\n",
       "      <th>PRICE_2</th>\n",
       "      <th>Discount_1</th>\n",
       "    </tr>\n",
       "  </thead>\n",
       "  <tbody>\n",
       "    <tr>\n",
       "      <th>0</th>\n",
       "      <td>HP Pavilion x360 Convertible Core i5 11th Gen ...</td>\n",
       "      <td>70990</td>\n",
       "      <td>81356</td>\n",
       "      <td>10366</td>\n",
       "    </tr>\n",
       "    <tr>\n",
       "      <th>1</th>\n",
       "      <td>HP 14s Core i5 11th Gen - (8 GB/512 GB SSD/Win...</td>\n",
       "      <td>57990</td>\n",
       "      <td>63179</td>\n",
       "      <td>5189</td>\n",
       "    </tr>\n",
       "    <tr>\n",
       "      <th>2</th>\n",
       "      <td>HP Core i5 11th Gen - (8 GB + 32 GB Optane/512...</td>\n",
       "      <td>57999</td>\n",
       "      <td>63626</td>\n",
       "      <td>5627</td>\n",
       "    </tr>\n",
       "    <tr>\n",
       "      <th>3</th>\n",
       "      <td>HP Pavilion Core i5 11th Gen - (16 GB/512 GB S...</td>\n",
       "      <td>67990</td>\n",
       "      <td>79445</td>\n",
       "      <td>11455</td>\n",
       "    </tr>\n",
       "    <tr>\n",
       "      <th>4</th>\n",
       "      <td>HP Pavilion Core i5 11th Gen - (16 GB/512 GB S...</td>\n",
       "      <td>65549</td>\n",
       "      <td>79444</td>\n",
       "      <td>13895</td>\n",
       "    </tr>\n",
       "    <tr>\n",
       "      <th>5</th>\n",
       "      <td>HP HP Envy Core i5 11th Gen - (16 GB/512 GB SS...</td>\n",
       "      <td>99990</td>\n",
       "      <td>113000</td>\n",
       "      <td>13010</td>\n",
       "    </tr>\n",
       "    <tr>\n",
       "      <th>6</th>\n",
       "      <td>HP Spectre x360 13 Series Core i5 11th Gen - (...</td>\n",
       "      <td>101990</td>\n",
       "      <td>114749</td>\n",
       "      <td>12759</td>\n",
       "    </tr>\n",
       "    <tr>\n",
       "      <th>7</th>\n",
       "      <td>HP Pavilion Core i5 11th Gen - (8 GB/512 GB SS...</td>\n",
       "      <td>73890</td>\n",
       "      <td>87717</td>\n",
       "      <td>13827</td>\n",
       "    </tr>\n",
       "    <tr>\n",
       "      <th>8</th>\n",
       "      <td>HP Pavilion x360 Core i5 11th Gen - (8 GB/512 ...</td>\n",
       "      <td>68990</td>\n",
       "      <td>78478</td>\n",
       "      <td>9488</td>\n",
       "    </tr>\n",
       "    <tr>\n",
       "      <th>9</th>\n",
       "      <td>HP Pavilion Core i5 11th Gen - (16 GB/512 GB S...</td>\n",
       "      <td>72990</td>\n",
       "      <td>79990</td>\n",
       "      <td>7000</td>\n",
       "    </tr>\n",
       "  </tbody>\n",
       "</table>\n",
       "</div>"
      ],
      "text/plain": [
       "                                       productname_1  PRICE_1  PRICE_2  \\\n",
       "0  HP Pavilion x360 Convertible Core i5 11th Gen ...    70990    81356   \n",
       "1  HP 14s Core i5 11th Gen - (8 GB/512 GB SSD/Win...    57990    63179   \n",
       "2  HP Core i5 11th Gen - (8 GB + 32 GB Optane/512...    57999    63626   \n",
       "3  HP Pavilion Core i5 11th Gen - (16 GB/512 GB S...    67990    79445   \n",
       "4  HP Pavilion Core i5 11th Gen - (16 GB/512 GB S...    65549    79444   \n",
       "5  HP HP Envy Core i5 11th Gen - (16 GB/512 GB SS...    99990   113000   \n",
       "6  HP Spectre x360 13 Series Core i5 11th Gen - (...   101990   114749   \n",
       "7  HP Pavilion Core i5 11th Gen - (8 GB/512 GB SS...    73890    87717   \n",
       "8  HP Pavilion x360 Core i5 11th Gen - (8 GB/512 ...    68990    78478   \n",
       "9  HP Pavilion Core i5 11th Gen - (16 GB/512 GB S...    72990    79990   \n",
       "\n",
       "   Discount_1  \n",
       "0       10366  \n",
       "1        5189  \n",
       "2        5627  \n",
       "3       11455  \n",
       "4       13895  \n",
       "5       13010  \n",
       "6       12759  \n",
       "7       13827  \n",
       "8        9488  \n",
       "9        7000  "
      ]
     },
     "execution_count": 21,
     "metadata": {},
     "output_type": "execute_result"
    }
   ],
   "source": [
    "df1"
   ]
  },
  {
   "cell_type": "code",
   "execution_count": 22,
   "id": "7aa1def2",
   "metadata": {},
   "outputs": [],
   "source": [
    "df1.to_excel(\"flipkartdata.xlsx\")  #Creating excel data"
   ]
  },
  {
   "cell_type": "code",
   "execution_count": 23,
   "id": "f5fbe26f",
   "metadata": {},
   "outputs": [
    {
     "data": {
      "text/html": [
       "<div>\n",
       "<style scoped>\n",
       "    .dataframe tbody tr th:only-of-type {\n",
       "        vertical-align: middle;\n",
       "    }\n",
       "\n",
       "    .dataframe tbody tr th {\n",
       "        vertical-align: top;\n",
       "    }\n",
       "\n",
       "    .dataframe thead th {\n",
       "        text-align: right;\n",
       "    }\n",
       "</style>\n",
       "<table border=\"1\" class=\"dataframe\">\n",
       "  <thead>\n",
       "    <tr style=\"text-align: right;\">\n",
       "      <th></th>\n",
       "      <th>Unnamed: 0</th>\n",
       "      <th>productname_1</th>\n",
       "      <th>PRICE_1</th>\n",
       "      <th>PRICE_2</th>\n",
       "      <th>Discount_1</th>\n",
       "    </tr>\n",
       "  </thead>\n",
       "  <tbody>\n",
       "    <tr>\n",
       "      <th>0</th>\n",
       "      <td>0</td>\n",
       "      <td>HP Pavilion x360 Convertible Core i5 11th Gen ...</td>\n",
       "      <td>70990</td>\n",
       "      <td>81356</td>\n",
       "      <td>10366</td>\n",
       "    </tr>\n",
       "    <tr>\n",
       "      <th>1</th>\n",
       "      <td>1</td>\n",
       "      <td>HP 14s Core i5 11th Gen - (8 GB/512 GB SSD/Win...</td>\n",
       "      <td>57990</td>\n",
       "      <td>63179</td>\n",
       "      <td>5189</td>\n",
       "    </tr>\n",
       "    <tr>\n",
       "      <th>2</th>\n",
       "      <td>2</td>\n",
       "      <td>HP Pavilion Core i5 11th Gen - (8 GB/512 GB SS...</td>\n",
       "      <td>62990</td>\n",
       "      <td>71000</td>\n",
       "      <td>8010</td>\n",
       "    </tr>\n",
       "    <tr>\n",
       "      <th>3</th>\n",
       "      <td>3</td>\n",
       "      <td>HP Core i5 11th Gen - (8 GB + 32 GB Optane/512...</td>\n",
       "      <td>56690</td>\n",
       "      <td>59452</td>\n",
       "      <td>2762</td>\n",
       "    </tr>\n",
       "    <tr>\n",
       "      <th>4</th>\n",
       "      <td>4</td>\n",
       "      <td>HP Pavilion Core i5 11th Gen - (16 GB/512 GB S...</td>\n",
       "      <td>66990</td>\n",
       "      <td>77141</td>\n",
       "      <td>10151</td>\n",
       "    </tr>\n",
       "    <tr>\n",
       "      <th>5</th>\n",
       "      <td>5</td>\n",
       "      <td>HP Pavilion Core i5 11th Gen - (16 GB/512 GB S...</td>\n",
       "      <td>67999</td>\n",
       "      <td>79445</td>\n",
       "      <td>11446</td>\n",
       "    </tr>\n",
       "    <tr>\n",
       "      <th>6</th>\n",
       "      <td>6</td>\n",
       "      <td>HP HP Pavilion Core i5 11th Gen - (16 GB/512 G...</td>\n",
       "      <td>66990</td>\n",
       "      <td>72536</td>\n",
       "      <td>5546</td>\n",
       "    </tr>\n",
       "    <tr>\n",
       "      <th>7</th>\n",
       "      <td>7</td>\n",
       "      <td>HP HP Envy Core i5 11th Gen - (16 GB/512 GB SS...</td>\n",
       "      <td>99990</td>\n",
       "      <td>113000</td>\n",
       "      <td>13010</td>\n",
       "    </tr>\n",
       "    <tr>\n",
       "      <th>8</th>\n",
       "      <td>8</td>\n",
       "      <td>HP Pavilion Core i5 11th Gen - (16 GB/512 GB S...</td>\n",
       "      <td>67990</td>\n",
       "      <td>79444</td>\n",
       "      <td>11454</td>\n",
       "    </tr>\n",
       "    <tr>\n",
       "      <th>9</th>\n",
       "      <td>9</td>\n",
       "      <td>HP Spectre x360 13 Series Core i5 11th Gen - (...</td>\n",
       "      <td>101990</td>\n",
       "      <td>114749</td>\n",
       "      <td>12759</td>\n",
       "    </tr>\n",
       "  </tbody>\n",
       "</table>\n",
       "</div>"
      ],
      "text/plain": [
       "   Unnamed: 0                                      productname_1  PRICE_1  \\\n",
       "0           0  HP Pavilion x360 Convertible Core i5 11th Gen ...    70990   \n",
       "1           1  HP 14s Core i5 11th Gen - (8 GB/512 GB SSD/Win...    57990   \n",
       "2           2  HP Pavilion Core i5 11th Gen - (8 GB/512 GB SS...    62990   \n",
       "3           3  HP Core i5 11th Gen - (8 GB + 32 GB Optane/512...    56690   \n",
       "4           4  HP Pavilion Core i5 11th Gen - (16 GB/512 GB S...    66990   \n",
       "5           5  HP Pavilion Core i5 11th Gen - (16 GB/512 GB S...    67999   \n",
       "6           6  HP HP Pavilion Core i5 11th Gen - (16 GB/512 G...    66990   \n",
       "7           7  HP HP Envy Core i5 11th Gen - (16 GB/512 GB SS...    99990   \n",
       "8           8  HP Pavilion Core i5 11th Gen - (16 GB/512 GB S...    67990   \n",
       "9           9  HP Spectre x360 13 Series Core i5 11th Gen - (...   101990   \n",
       "\n",
       "   PRICE_2  Discount_1  \n",
       "0    81356       10366  \n",
       "1    63179        5189  \n",
       "2    71000        8010  \n",
       "3    59452        2762  \n",
       "4    77141       10151  \n",
       "5    79445       11446  \n",
       "6    72536        5546  \n",
       "7   113000       13010  \n",
       "8    79444       11454  \n",
       "9   114749       12759  "
      ]
     },
     "execution_count": 23,
     "metadata": {},
     "output_type": "execute_result"
    }
   ],
   "source": [
    "df1=pd.read_csv('flipkartdata.csv')  #Converting excel data into csv data\n",
    "df1"
   ]
  },
  {
   "cell_type": "code",
   "execution_count": 24,
   "id": "01c52baf",
   "metadata": {},
   "outputs": [
    {
     "data": {
      "text/html": [
       "<div>\n",
       "<style scoped>\n",
       "    .dataframe tbody tr th:only-of-type {\n",
       "        vertical-align: middle;\n",
       "    }\n",
       "\n",
       "    .dataframe tbody tr th {\n",
       "        vertical-align: top;\n",
       "    }\n",
       "\n",
       "    .dataframe thead th {\n",
       "        text-align: right;\n",
       "    }\n",
       "</style>\n",
       "<table border=\"1\" class=\"dataframe\">\n",
       "  <thead>\n",
       "    <tr style=\"text-align: right;\">\n",
       "      <th></th>\n",
       "      <th>productname_1</th>\n",
       "      <th>PRICE_1</th>\n",
       "      <th>PRICE_2</th>\n",
       "      <th>Discount_1</th>\n",
       "    </tr>\n",
       "  </thead>\n",
       "  <tbody>\n",
       "    <tr>\n",
       "      <th>0</th>\n",
       "      <td>HP Pavilion x360 Convertible Core i5 11th Gen ...</td>\n",
       "      <td>70990</td>\n",
       "      <td>81356</td>\n",
       "      <td>10366</td>\n",
       "    </tr>\n",
       "    <tr>\n",
       "      <th>1</th>\n",
       "      <td>HP 14s Core i5 11th Gen - (8 GB/512 GB SSD/Win...</td>\n",
       "      <td>57990</td>\n",
       "      <td>63179</td>\n",
       "      <td>5189</td>\n",
       "    </tr>\n",
       "    <tr>\n",
       "      <th>2</th>\n",
       "      <td>HP Pavilion Core i5 11th Gen - (8 GB/512 GB SS...</td>\n",
       "      <td>62990</td>\n",
       "      <td>71000</td>\n",
       "      <td>8010</td>\n",
       "    </tr>\n",
       "    <tr>\n",
       "      <th>3</th>\n",
       "      <td>HP Core i5 11th Gen - (8 GB + 32 GB Optane/512...</td>\n",
       "      <td>56690</td>\n",
       "      <td>59452</td>\n",
       "      <td>2762</td>\n",
       "    </tr>\n",
       "    <tr>\n",
       "      <th>4</th>\n",
       "      <td>HP Pavilion Core i5 11th Gen - (16 GB/512 GB S...</td>\n",
       "      <td>66990</td>\n",
       "      <td>77141</td>\n",
       "      <td>10151</td>\n",
       "    </tr>\n",
       "    <tr>\n",
       "      <th>5</th>\n",
       "      <td>HP Pavilion Core i5 11th Gen - (16 GB/512 GB S...</td>\n",
       "      <td>67999</td>\n",
       "      <td>79445</td>\n",
       "      <td>11446</td>\n",
       "    </tr>\n",
       "    <tr>\n",
       "      <th>6</th>\n",
       "      <td>HP HP Pavilion Core i5 11th Gen - (16 GB/512 G...</td>\n",
       "      <td>66990</td>\n",
       "      <td>72536</td>\n",
       "      <td>5546</td>\n",
       "    </tr>\n",
       "    <tr>\n",
       "      <th>7</th>\n",
       "      <td>HP HP Envy Core i5 11th Gen - (16 GB/512 GB SS...</td>\n",
       "      <td>99990</td>\n",
       "      <td>113000</td>\n",
       "      <td>13010</td>\n",
       "    </tr>\n",
       "    <tr>\n",
       "      <th>8</th>\n",
       "      <td>HP Pavilion Core i5 11th Gen - (16 GB/512 GB S...</td>\n",
       "      <td>67990</td>\n",
       "      <td>79444</td>\n",
       "      <td>11454</td>\n",
       "    </tr>\n",
       "    <tr>\n",
       "      <th>9</th>\n",
       "      <td>HP Spectre x360 13 Series Core i5 11th Gen - (...</td>\n",
       "      <td>101990</td>\n",
       "      <td>114749</td>\n",
       "      <td>12759</td>\n",
       "    </tr>\n",
       "  </tbody>\n",
       "</table>\n",
       "</div>"
      ],
      "text/plain": [
       "                                       productname_1  PRICE_1  PRICE_2  \\\n",
       "0  HP Pavilion x360 Convertible Core i5 11th Gen ...    70990    81356   \n",
       "1  HP 14s Core i5 11th Gen - (8 GB/512 GB SSD/Win...    57990    63179   \n",
       "2  HP Pavilion Core i5 11th Gen - (8 GB/512 GB SS...    62990    71000   \n",
       "3  HP Core i5 11th Gen - (8 GB + 32 GB Optane/512...    56690    59452   \n",
       "4  HP Pavilion Core i5 11th Gen - (16 GB/512 GB S...    66990    77141   \n",
       "5  HP Pavilion Core i5 11th Gen - (16 GB/512 GB S...    67999    79445   \n",
       "6  HP HP Pavilion Core i5 11th Gen - (16 GB/512 G...    66990    72536   \n",
       "7  HP HP Envy Core i5 11th Gen - (16 GB/512 GB SS...    99990   113000   \n",
       "8  HP Pavilion Core i5 11th Gen - (16 GB/512 GB S...    67990    79444   \n",
       "9  HP Spectre x360 13 Series Core i5 11th Gen - (...   101990   114749   \n",
       "\n",
       "   Discount_1  \n",
       "0       10366  \n",
       "1        5189  \n",
       "2        8010  \n",
       "3        2762  \n",
       "4       10151  \n",
       "5       11446  \n",
       "6        5546  \n",
       "7       13010  \n",
       "8       11454  \n",
       "9       12759  "
      ]
     },
     "execution_count": 24,
     "metadata": {},
     "output_type": "execute_result"
    }
   ],
   "source": [
    "del df1['Unnamed: 0']  #deleting the unwanted column\n",
    "df1"
   ]
  },
  {
   "cell_type": "code",
   "execution_count": 25,
   "id": "00fec95c",
   "metadata": {},
   "outputs": [],
   "source": [
    "## DATA COLLECTION USING WEB SCRAPING ##\n",
    "link=\"https://www.hp.com/in-en/shop/catalogsearch/result/?q=hp+laptops+i5+11th+generation\"\n",
    "pagecontent=u(link)\n",
    "pagecode=pagecontent.read()"
   ]
  },
  {
   "cell_type": "code",
   "execution_count": null,
   "id": "c2593f6e",
   "metadata": {},
   "outputs": [],
   "source": [
    "pagecode"
   ]
  },
  {
   "cell_type": "code",
   "execution_count": null,
   "id": "8b7587a0",
   "metadata": {},
   "outputs": [],
   "source": [
    "page_file=s(pagecode)"
   ]
  },
  {
   "cell_type": "code",
   "execution_count": null,
   "id": "1efe7e7c",
   "metadata": {},
   "outputs": [],
   "source": [
    "print(page_file.prettify())"
   ]
  },
  {
   "cell_type": "code",
   "execution_count": 28,
   "id": "4544d3d3",
   "metadata": {},
   "outputs": [
    {
     "name": "stdout",
     "output_type": "stream",
     "text": [
      "\n",
      "\n",
      "                                HP Pavilion Laptop 14-dv1000TU                            \n",
      "\n"
     ]
    }
   ],
   "source": [
    "#Extracting single productname\n",
    "modelname=page_file.find(\"strong\",{\"class\":'product name product-item-name'})\n",
    "print(modelname.text)"
   ]
  },
  {
   "cell_type": "code",
   "execution_count": 29,
   "id": "b1231767",
   "metadata": {},
   "outputs": [
    {
     "data": {
      "text/plain": [
       "['\\n\\n                                HP Pavilion Laptop 14-dv1000TU                            \\n',\n",
       " '\\n\\n                                HP Pavilion Laptop 15-eg1000TU                            \\n',\n",
       " '\\n\\n                                HP Pavilion Laptop 14-dv1002TU                            \\n',\n",
       " '\\n\\n                                HP Pavilion Laptop 14-dv1001TU                            \\n',\n",
       " '\\n\\n                                HP Pavilion Gaming Laptop 15-dk2095TX                            \\n',\n",
       " '\\n\\n                                HP Pavilion Gaming Laptop 15-dk2012TX                            \\n',\n",
       " '\\n\\n                                HP ENVY Laptop 13-ba1501TX                            \\n',\n",
       " '\\n\\n                                HP ENVY Laptop 14-eb0019TX                            \\n',\n",
       " '\\n\\n                                HP ENVY Laptop 14-eb0020TX                            \\n',\n",
       " '\\n\\n                                HP ProBook 440 G8 Notebook PC                            \\n',\n",
       " '\\n\\n                                HP Laptop 14s-ef1001TU                            \\n',\n",
       " '\\n\\n                                HP EliteBook 840 G8 Notebook PC                            \\n',\n",
       " '\\n\\n                                HP Spectre x360 Convertible 14-ea0538TU                            \\n',\n",
       " '\\n\\n                                HP Spectre x360 Convertible 14-ea0542TU                            \\n',\n",
       " '\\n\\n                                HP 250 G8 Notebook PC                            \\n',\n",
       " '\\n\\n                                HP ZBook Firefly 15.6 inch G8 Mobile Workstation PC                            \\n',\n",
       " '\\n\\n                                HP Chromebook x360 14c-cc0010TU                            \\n',\n",
       " '\\n\\n                                HP 240 G8 Notebook PC                            \\n',\n",
       " '\\n\\n                                HP ProBook 440 G8 Notebook PC                            \\n',\n",
       " '\\n\\n                                HP ProBook 440 G8 Notebook PC                            \\n',\n",
       " '\\n\\n                                HP ProBook 430 G8 Notebook PC                            \\n',\n",
       " '\\n\\n                                HP Laptop 15s-du3047TX                            \\n',\n",
       " '\\n\\n                                HP Laptop 15s-fq2071TU                            \\n',\n",
       " '\\n\\n                                HP 250 G8 Notebook PC                            \\n']"
      ]
     },
     "execution_count": 29,
     "metadata": {},
     "output_type": "execute_result"
    }
   ],
   "source": [
    "#Extracting the whole productname_2\n",
    "productname_2=[]\n",
    "modelname=page_file.findAll(\"strong\",{\"class\":'product name product-item-name'})\n",
    "for i in modelname:\n",
    "    p=i.text\n",
    "    productname_2.append(p)\n",
    "productname_2"
   ]
  },
  {
   "cell_type": "code",
   "execution_count": 30,
   "id": "63fc9d93",
   "metadata": {},
   "outputs": [
    {
     "data": {
      "text/plain": [
       "['HP Pavilion Laptop 14-dv1000TU',\n",
       " 'HP Pavilion Laptop 15-eg1000TU',\n",
       " 'HP Pavilion Laptop 14-dv1002TU',\n",
       " 'HP Pavilion Laptop 14-dv1001TU',\n",
       " 'HP Pavilion Gaming Laptop 15-dk2095TX',\n",
       " 'HP Pavilion Gaming Laptop 15-dk2012TX',\n",
       " 'HP ENVY Laptop 13-ba1501TX',\n",
       " 'HP ENVY Laptop 14-eb0019TX',\n",
       " 'HP ENVY Laptop 14-eb0020TX',\n",
       " 'HP ProBook 440 G8 Notebook PC',\n",
       " 'HP Laptop 14s-ef1001TU',\n",
       " 'HP EliteBook 840 G8 Notebook PC',\n",
       " 'HP Spectre x360 Convertible 14-ea0538TU',\n",
       " 'HP Spectre x360 Convertible 14-ea0542TU',\n",
       " 'HP 250 G8 Notebook PC',\n",
       " 'HP ZBook Firefly 15.6 inch G8 Mobile Workstation PC',\n",
       " 'HP Chromebook x360 14c-cc0010TU',\n",
       " 'HP 240 G8 Notebook PC',\n",
       " 'HP ProBook 440 G8 Notebook PC',\n",
       " 'HP ProBook 440 G8 Notebook PC',\n",
       " 'HP ProBook 430 G8 Notebook PC',\n",
       " 'HP Laptop 15s-du3047TX',\n",
       " 'HP Laptop 15s-fq2071TU',\n",
       " 'HP 250 G8 Notebook PC']"
      ]
     },
     "execution_count": 30,
     "metadata": {},
     "output_type": "execute_result"
    }
   ],
   "source": [
    "## DATA CLEANING ##\n",
    "a=[]\n",
    "for i in productname_2:\n",
    "    c=i.strip()\n",
    "    a.append(c)\n",
    "a"
   ]
  },
  {
   "cell_type": "code",
   "execution_count": 31,
   "id": "d5f9010a",
   "metadata": {},
   "outputs": [
    {
     "data": {
      "text/plain": [
       "['HP Pavilion Laptop 14-dv1000TU',\n",
       " 'HP Pavilion Laptop 15-eg1000TU',\n",
       " 'HP Pavilion Laptop 14-dv1002TU',\n",
       " 'HP Pavilion Laptop 14-dv1001TU',\n",
       " 'HP Pavilion Gaming Laptop 15-dk2095TX',\n",
       " 'HP Pavilion Gaming Laptop 15-dk2012TX',\n",
       " 'HP ENVY Laptop 13-ba1501TX',\n",
       " 'HP ENVY Laptop 14-eb0019TX',\n",
       " 'HP ENVY Laptop 14-eb0020TX',\n",
       " 'HP ProBook 440 G8 Notebook PC']"
      ]
     },
     "execution_count": 31,
     "metadata": {},
     "output_type": "execute_result"
    }
   ],
   "source": [
    "del a[10:]  #for taking 10 values deleting other values\n",
    "a"
   ]
  },
  {
   "cell_type": "code",
   "execution_count": 32,
   "id": "47f41cde",
   "metadata": {},
   "outputs": [
    {
     "data": {
      "text/plain": [
       "10"
      ]
     },
     "execution_count": 32,
     "metadata": {},
     "output_type": "execute_result"
    }
   ],
   "source": [
    "len(a)  #finding length"
   ]
  },
  {
   "cell_type": "code",
   "execution_count": 33,
   "id": "5b3bd159",
   "metadata": {},
   "outputs": [
    {
     "data": {
      "text/plain": [
       "['\\n\\n                                                                    SAVE                                                                \\n₹2,000 (3%)                                                        ',\n",
       " '\\n\\n                                                                    SAVE                                                                \\n₹10,328 (13%)                                                        ',\n",
       " '\\n\\n                                                                    SAVE                                                                \\n₹11,445 (14%)                                                        ',\n",
       " '\\n\\n                                                                    SAVE                                                                \\n₹11,445 (14%)                                                        ',\n",
       " '\\n\\n                                                                    SAVE                                                                \\n₹13,726 (15%)                                                        ',\n",
       " '\\n\\n                                                                    SAVE                                                                \\n₹15,574 (16%)                                                        ',\n",
       " '\\n\\n                                                                    SAVE                                                                \\n₹14,203 (14%)                                                        ',\n",
       " '\\n\\n                                                                    SAVE                                                                \\n₹9,976 (8%)                                                        ',\n",
       " '\\n\\n                                                                    SAVE                                                                \\n₹20,291 (15%)                                                        ',\n",
       " '\\n\\n                                                                    SAVE                                                                \\n₹2,098 (2%)                                                        ',\n",
       " '\\n\\n                                                                    SAVE                                                                \\n₹14,685 (17%)                                                        ',\n",
       " '\\n',\n",
       " '\\n\\n                                                                    SAVE                                                                \\n₹18,166 (13%)                                                        ',\n",
       " '\\n\\n                                                                    SAVE                                                                \\n₹20,437 (13%)                                                        ',\n",
       " '\\n\\n                                                                    SAVE                                                                \\n₹1,125 (1%)                                                        ',\n",
       " '\\n\\n                                                                    SAVE                                                                \\n₹17,300 (12%)                                                        ',\n",
       " '\\n\\n                                                                    SAVE                                                                \\n₹9,437 (12%)                                                        ',\n",
       " '\\n\\n                                                                    SAVE                                                                \\n₹1,799 (2%)                                                        ',\n",
       " '\\n',\n",
       " '\\n',\n",
       " '\\n',\n",
       " '\\n',\n",
       " '\\n',\n",
       " '\\n']"
      ]
     },
     "execution_count": 33,
     "metadata": {},
     "output_type": "execute_result"
    }
   ],
   "source": [
    "#Extracting the discount_2\n",
    "discount_2=[]\n",
    "dr=page_file.findAll(\"div\",{\"class\":'mrp discount mrp-discount'})\n",
    "for i in dr:\n",
    "    p=i.text\n",
    "    discount_2.append(p)\n",
    "discount_2"
   ]
  },
  {
   "cell_type": "code",
   "execution_count": 34,
   "id": "c4f059b2",
   "metadata": {},
   "outputs": [
    {
     "data": {
      "text/plain": [
       "['SAVE                                                                \\n₹2,000 (3%)',\n",
       " 'SAVE                                                                \\n₹10,328 (13%)',\n",
       " 'SAVE                                                                \\n₹11,445 (14%)',\n",
       " 'SAVE                                                                \\n₹11,445 (14%)',\n",
       " 'SAVE                                                                \\n₹13,726 (15%)',\n",
       " 'SAVE                                                                \\n₹15,574 (16%)',\n",
       " 'SAVE                                                                \\n₹14,203 (14%)',\n",
       " 'SAVE                                                                \\n₹9,976 (8%)',\n",
       " 'SAVE                                                                \\n₹20,291 (15%)',\n",
       " 'SAVE                                                                \\n₹2,098 (2%)',\n",
       " 'SAVE                                                                \\n₹14,685 (17%)',\n",
       " '',\n",
       " 'SAVE                                                                \\n₹18,166 (13%)',\n",
       " 'SAVE                                                                \\n₹20,437 (13%)',\n",
       " 'SAVE                                                                \\n₹1,125 (1%)',\n",
       " 'SAVE                                                                \\n₹17,300 (12%)',\n",
       " 'SAVE                                                                \\n₹9,437 (12%)',\n",
       " 'SAVE                                                                \\n₹1,799 (2%)',\n",
       " '',\n",
       " '',\n",
       " '',\n",
       " '',\n",
       " '',\n",
       " '']"
      ]
     },
     "execution_count": 34,
     "metadata": {},
     "output_type": "execute_result"
    }
   ],
   "source": [
    "## DATA CLEANING ##\n",
    "b=[]\n",
    "for i in discount_2:\n",
    "    d=i.strip()\n",
    "    b.append(d)\n",
    "b"
   ]
  },
  {
   "cell_type": "code",
   "execution_count": 35,
   "id": "05eda044",
   "metadata": {},
   "outputs": [
    {
     "name": "stdout",
     "output_type": "stream",
     "text": [
      "[2000, 10328, 11445, 11445, 13726, 15574, 14203, 9976, 20291, 2098, 14685, 18166, 20437, 1125, 17300, 9437, 1799]\n"
     ]
    }
   ],
   "source": [
    "#Extracting the discount price & cleaning the data\n",
    "d=[]\n",
    "b=page_file.findAll(\"div\",{\"class\":'mrp discount mrp-discount'})\n",
    "for j in b:\n",
    "    p=j.find_all(\"span\",{\"class\":'price'})\n",
    "    for i in p:\n",
    "        y=i.text\n",
    "        d.append(int(float(y[1:].replace(',',''))))\n",
    "        \n",
    "print(d)"
   ]
  },
  {
   "cell_type": "code",
   "execution_count": 36,
   "id": "2c4b5eee",
   "metadata": {},
   "outputs": [
    {
     "data": {
      "text/plain": [
       "[2000, 10328, 11445, 11445, 13726, 15574, 14203, 9976, 20291, 2098]"
      ]
     },
     "execution_count": 36,
     "metadata": {},
     "output_type": "execute_result"
    }
   ],
   "source": [
    "del d[10:]   #for taking 10 values deleting other values\n",
    "d"
   ]
  },
  {
   "cell_type": "code",
   "execution_count": 37,
   "id": "02acfe31",
   "metadata": {},
   "outputs": [
    {
     "data": {
      "text/plain": [
       "10"
      ]
     },
     "execution_count": 37,
     "metadata": {},
     "output_type": "execute_result"
    }
   ],
   "source": [
    "len(d)  #finding length"
   ]
  },
  {
   "cell_type": "code",
   "execution_count": 38,
   "id": "cea94b39",
   "metadata": {},
   "outputs": [
    {
     "name": "stdout",
     "output_type": "stream",
     "text": [
      "[62999, 66999, 67999, 67999, 73990, 77990, 84999, 104999, 109999, 87902, 66999, 122527, 119999, 134999, 60780, 125999, 66999, 79561, 68000, 86000, 91559, 67499, 57699, 58086]\n"
     ]
    }
   ],
   "source": [
    "#Extracting the new price\n",
    "PRICE_1=[]    #with discount-new price\n",
    "b=page_file.findAll(\"span\",{\"class\":'price-wrapper price-including-tax'})\n",
    "for i in b:\n",
    "    y=i.text\n",
    "    PRICE_1.append(int(y[2:].replace(',',''))) #data cleaning\n",
    "print(PRICE_1)"
   ]
  },
  {
   "cell_type": "code",
   "execution_count": 39,
   "id": "0f445945",
   "metadata": {},
   "outputs": [
    {
     "data": {
      "text/plain": [
       "[62999, 66999, 67999, 67999, 73990, 77990, 84999, 104999, 109999, 87902]"
      ]
     },
     "execution_count": 39,
     "metadata": {},
     "output_type": "execute_result"
    }
   ],
   "source": [
    "del PRICE_1[10:]    #for taking 10 values deleting other values\n",
    "PRICE_1"
   ]
  },
  {
   "cell_type": "code",
   "execution_count": 40,
   "id": "761d4bc9",
   "metadata": {},
   "outputs": [
    {
     "data": {
      "text/plain": [
       "10"
      ]
     },
     "execution_count": 40,
     "metadata": {},
     "output_type": "execute_result"
    }
   ],
   "source": [
    "len(PRICE_1)    #finding length"
   ]
  },
  {
   "cell_type": "code",
   "execution_count": 41,
   "id": "42456bff",
   "metadata": {},
   "outputs": [
    {
     "name": "stdout",
     "output_type": "stream",
     "text": [
      "[64999, 2000, 77327, 10328, 79444, 11445, 79444, 11445, 87716, 13726, 93564, 15574, 99202, 14203, 114975, 9976, 130290, 20291, 90000, 2098, 81684, 14685, 123624, 138165, 18166, 155436, 20437, 61905, 1125, 143299, 17300, 76436, 9437, 81360, 1799, 68107, 86232, 57779]\n"
     ]
    }
   ],
   "source": [
    "#Extracting the original price\n",
    "F=[]      #without discount- original price\n",
    "b=page_file.findAll(\"div\",{\"class\":'suggest-retail-price'}) \n",
    "for f in b:\n",
    "    p=f.find_all(\"span\",{\"class\":'price'})\n",
    "    for i in p:\n",
    "        y=i.text\n",
    "        F.append(int(float(y[1:].replace(',',''))))  #data cleaning\n",
    "print(F)"
   ]
  },
  {
   "cell_type": "code",
   "execution_count": 42,
   "id": "b7767a48",
   "metadata": {},
   "outputs": [
    {
     "data": {
      "text/plain": [
       "[64999,\n",
       " 77327,\n",
       " 79444,\n",
       " 79444,\n",
       " 87716,\n",
       " 93564,\n",
       " 99202,\n",
       " 114975,\n",
       " 130290,\n",
       " 90000,\n",
       " 81684,\n",
       " 123624,\n",
       " 18166,\n",
       " 20437,\n",
       " 1125,\n",
       " 17300,\n",
       " 9437,\n",
       " 1799,\n",
       " 86232]"
      ]
     },
     "execution_count": 42,
     "metadata": {},
     "output_type": "execute_result"
    }
   ],
   "source": [
    "del F[1::2]     #for taking 10 values deleting other values\n",
    "F"
   ]
  },
  {
   "cell_type": "code",
   "execution_count": 43,
   "id": "e7f4cfc9",
   "metadata": {},
   "outputs": [
    {
     "data": {
      "text/plain": [
       "[64999, 77327, 79444, 79444, 87716, 93564, 99202, 114975, 130290, 90000]"
      ]
     },
     "execution_count": 43,
     "metadata": {},
     "output_type": "execute_result"
    }
   ],
   "source": [
    "del F[10:]   #for taking 10 values deleting other values\n",
    "F"
   ]
  },
  {
   "cell_type": "code",
   "execution_count": 44,
   "id": "7e09a6df",
   "metadata": {},
   "outputs": [],
   "source": [
    "# Creating dictionary & adding necessary details\n",
    "import pandas as pd\n",
    "d2={'productname_2':a,'price_1':PRICE_1,'price_2':F,'discount_2':d}\n",
    "df2=pd.DataFrame(d2)"
   ]
  },
  {
   "cell_type": "code",
   "execution_count": 45,
   "id": "b1efb543",
   "metadata": {},
   "outputs": [
    {
     "data": {
      "text/html": [
       "<div>\n",
       "<style scoped>\n",
       "    .dataframe tbody tr th:only-of-type {\n",
       "        vertical-align: middle;\n",
       "    }\n",
       "\n",
       "    .dataframe tbody tr th {\n",
       "        vertical-align: top;\n",
       "    }\n",
       "\n",
       "    .dataframe thead th {\n",
       "        text-align: right;\n",
       "    }\n",
       "</style>\n",
       "<table border=\"1\" class=\"dataframe\">\n",
       "  <thead>\n",
       "    <tr style=\"text-align: right;\">\n",
       "      <th></th>\n",
       "      <th>productname_2</th>\n",
       "      <th>price_1</th>\n",
       "      <th>price_2</th>\n",
       "      <th>discount_2</th>\n",
       "    </tr>\n",
       "  </thead>\n",
       "  <tbody>\n",
       "    <tr>\n",
       "      <th>0</th>\n",
       "      <td>HP Pavilion Laptop 14-dv1000TU</td>\n",
       "      <td>62999</td>\n",
       "      <td>64999</td>\n",
       "      <td>2000</td>\n",
       "    </tr>\n",
       "    <tr>\n",
       "      <th>1</th>\n",
       "      <td>HP Pavilion Laptop 15-eg1000TU</td>\n",
       "      <td>66999</td>\n",
       "      <td>77327</td>\n",
       "      <td>10328</td>\n",
       "    </tr>\n",
       "    <tr>\n",
       "      <th>2</th>\n",
       "      <td>HP Pavilion Laptop 14-dv1002TU</td>\n",
       "      <td>67999</td>\n",
       "      <td>79444</td>\n",
       "      <td>11445</td>\n",
       "    </tr>\n",
       "    <tr>\n",
       "      <th>3</th>\n",
       "      <td>HP Pavilion Laptop 14-dv1001TU</td>\n",
       "      <td>67999</td>\n",
       "      <td>79444</td>\n",
       "      <td>11445</td>\n",
       "    </tr>\n",
       "    <tr>\n",
       "      <th>4</th>\n",
       "      <td>HP Pavilion Gaming Laptop 15-dk2095TX</td>\n",
       "      <td>73990</td>\n",
       "      <td>87716</td>\n",
       "      <td>13726</td>\n",
       "    </tr>\n",
       "    <tr>\n",
       "      <th>5</th>\n",
       "      <td>HP Pavilion Gaming Laptop 15-dk2012TX</td>\n",
       "      <td>77990</td>\n",
       "      <td>93564</td>\n",
       "      <td>15574</td>\n",
       "    </tr>\n",
       "    <tr>\n",
       "      <th>6</th>\n",
       "      <td>HP ENVY Laptop 13-ba1501TX</td>\n",
       "      <td>84999</td>\n",
       "      <td>99202</td>\n",
       "      <td>14203</td>\n",
       "    </tr>\n",
       "    <tr>\n",
       "      <th>7</th>\n",
       "      <td>HP ENVY Laptop 14-eb0019TX</td>\n",
       "      <td>104999</td>\n",
       "      <td>114975</td>\n",
       "      <td>9976</td>\n",
       "    </tr>\n",
       "    <tr>\n",
       "      <th>8</th>\n",
       "      <td>HP ENVY Laptop 14-eb0020TX</td>\n",
       "      <td>109999</td>\n",
       "      <td>130290</td>\n",
       "      <td>20291</td>\n",
       "    </tr>\n",
       "    <tr>\n",
       "      <th>9</th>\n",
       "      <td>HP ProBook 440 G8 Notebook PC</td>\n",
       "      <td>87902</td>\n",
       "      <td>90000</td>\n",
       "      <td>2098</td>\n",
       "    </tr>\n",
       "  </tbody>\n",
       "</table>\n",
       "</div>"
      ],
      "text/plain": [
       "                           productname_2  price_1  price_2  discount_2\n",
       "0         HP Pavilion Laptop 14-dv1000TU    62999    64999        2000\n",
       "1         HP Pavilion Laptop 15-eg1000TU    66999    77327       10328\n",
       "2         HP Pavilion Laptop 14-dv1002TU    67999    79444       11445\n",
       "3         HP Pavilion Laptop 14-dv1001TU    67999    79444       11445\n",
       "4  HP Pavilion Gaming Laptop 15-dk2095TX    73990    87716       13726\n",
       "5  HP Pavilion Gaming Laptop 15-dk2012TX    77990    93564       15574\n",
       "6             HP ENVY Laptop 13-ba1501TX    84999    99202       14203\n",
       "7             HP ENVY Laptop 14-eb0019TX   104999   114975        9976\n",
       "8             HP ENVY Laptop 14-eb0020TX   109999   130290       20291\n",
       "9          HP ProBook 440 G8 Notebook PC    87902    90000        2098"
      ]
     },
     "execution_count": 45,
     "metadata": {},
     "output_type": "execute_result"
    }
   ],
   "source": [
    "df2"
   ]
  },
  {
   "cell_type": "code",
   "execution_count": 46,
   "id": "be714ae2",
   "metadata": {},
   "outputs": [],
   "source": [
    "df2.to_excel(\"hpdata.xlsx\")   #creating excel data"
   ]
  },
  {
   "cell_type": "code",
   "execution_count": 47,
   "id": "2011f1cf",
   "metadata": {},
   "outputs": [
    {
     "data": {
      "text/html": [
       "<div>\n",
       "<style scoped>\n",
       "    .dataframe tbody tr th:only-of-type {\n",
       "        vertical-align: middle;\n",
       "    }\n",
       "\n",
       "    .dataframe tbody tr th {\n",
       "        vertical-align: top;\n",
       "    }\n",
       "\n",
       "    .dataframe thead th {\n",
       "        text-align: right;\n",
       "    }\n",
       "</style>\n",
       "<table border=\"1\" class=\"dataframe\">\n",
       "  <thead>\n",
       "    <tr style=\"text-align: right;\">\n",
       "      <th></th>\n",
       "      <th>Unnamed: 0</th>\n",
       "      <th>productname_2</th>\n",
       "      <th>price_1</th>\n",
       "      <th>price_2</th>\n",
       "      <th>discount_2</th>\n",
       "    </tr>\n",
       "  </thead>\n",
       "  <tbody>\n",
       "    <tr>\n",
       "      <th>0</th>\n",
       "      <td>0</td>\n",
       "      <td>HP Pavilion Laptop 14-dv1000TU</td>\n",
       "      <td>62999</td>\n",
       "      <td>64999</td>\n",
       "      <td>2000</td>\n",
       "    </tr>\n",
       "    <tr>\n",
       "      <th>1</th>\n",
       "      <td>1</td>\n",
       "      <td>HP Pavilion Laptop 15-eg1000TU</td>\n",
       "      <td>66999</td>\n",
       "      <td>77327</td>\n",
       "      <td>10328</td>\n",
       "    </tr>\n",
       "    <tr>\n",
       "      <th>2</th>\n",
       "      <td>2</td>\n",
       "      <td>HP Pavilion Laptop 14-dv1001TU</td>\n",
       "      <td>67999</td>\n",
       "      <td>79444</td>\n",
       "      <td>11445</td>\n",
       "    </tr>\n",
       "    <tr>\n",
       "      <th>3</th>\n",
       "      <td>3</td>\n",
       "      <td>HP Pavilion Gaming Laptop 15-dk2095TX</td>\n",
       "      <td>73990</td>\n",
       "      <td>87716</td>\n",
       "      <td>13726</td>\n",
       "    </tr>\n",
       "    <tr>\n",
       "      <th>4</th>\n",
       "      <td>4</td>\n",
       "      <td>HP ENVY Laptop 13-ba1501TX</td>\n",
       "      <td>84999</td>\n",
       "      <td>99202</td>\n",
       "      <td>14203</td>\n",
       "    </tr>\n",
       "    <tr>\n",
       "      <th>5</th>\n",
       "      <td>5</td>\n",
       "      <td>HP ENVY Laptop 14-eb0019TX</td>\n",
       "      <td>104999</td>\n",
       "      <td>114975</td>\n",
       "      <td>9976</td>\n",
       "    </tr>\n",
       "    <tr>\n",
       "      <th>6</th>\n",
       "      <td>6</td>\n",
       "      <td>HP Pavilion Gaming Laptop 15-dk2012TX</td>\n",
       "      <td>77990</td>\n",
       "      <td>93564</td>\n",
       "      <td>15574</td>\n",
       "    </tr>\n",
       "    <tr>\n",
       "      <th>7</th>\n",
       "      <td>7</td>\n",
       "      <td>HP ENVY Laptop 14-eb0020TX</td>\n",
       "      <td>109999</td>\n",
       "      <td>130290</td>\n",
       "      <td>20291</td>\n",
       "    </tr>\n",
       "    <tr>\n",
       "      <th>8</th>\n",
       "      <td>8</td>\n",
       "      <td>HP Spectre x360 Convertible 14-ea0538TU</td>\n",
       "      <td>119999</td>\n",
       "      <td>138165</td>\n",
       "      <td>18166</td>\n",
       "    </tr>\n",
       "    <tr>\n",
       "      <th>9</th>\n",
       "      <td>9</td>\n",
       "      <td>HP Spectre x360 Convertible 14-ea0542TU</td>\n",
       "      <td>134999</td>\n",
       "      <td>155436</td>\n",
       "      <td>20437</td>\n",
       "    </tr>\n",
       "  </tbody>\n",
       "</table>\n",
       "</div>"
      ],
      "text/plain": [
       "   Unnamed: 0                            productname_2  price_1  price_2  \\\n",
       "0           0           HP Pavilion Laptop 14-dv1000TU    62999    64999   \n",
       "1           1           HP Pavilion Laptop 15-eg1000TU    66999    77327   \n",
       "2           2           HP Pavilion Laptop 14-dv1001TU    67999    79444   \n",
       "3           3    HP Pavilion Gaming Laptop 15-dk2095TX    73990    87716   \n",
       "4           4               HP ENVY Laptop 13-ba1501TX    84999    99202   \n",
       "5           5               HP ENVY Laptop 14-eb0019TX   104999   114975   \n",
       "6           6    HP Pavilion Gaming Laptop 15-dk2012TX    77990    93564   \n",
       "7           7               HP ENVY Laptop 14-eb0020TX   109999   130290   \n",
       "8           8  HP Spectre x360 Convertible 14-ea0538TU   119999   138165   \n",
       "9           9  HP Spectre x360 Convertible 14-ea0542TU   134999   155436   \n",
       "\n",
       "   discount_2  \n",
       "0        2000  \n",
       "1       10328  \n",
       "2       11445  \n",
       "3       13726  \n",
       "4       14203  \n",
       "5        9976  \n",
       "6       15574  \n",
       "7       20291  \n",
       "8       18166  \n",
       "9       20437  "
      ]
     },
     "execution_count": 47,
     "metadata": {},
     "output_type": "execute_result"
    }
   ],
   "source": [
    "df2=pd.read_csv('hpdata.csv')  #converting excel data into csv data\n",
    "df2"
   ]
  },
  {
   "cell_type": "code",
   "execution_count": 48,
   "id": "759fc5f4",
   "metadata": {},
   "outputs": [
    {
     "data": {
      "text/html": [
       "<div>\n",
       "<style scoped>\n",
       "    .dataframe tbody tr th:only-of-type {\n",
       "        vertical-align: middle;\n",
       "    }\n",
       "\n",
       "    .dataframe tbody tr th {\n",
       "        vertical-align: top;\n",
       "    }\n",
       "\n",
       "    .dataframe thead th {\n",
       "        text-align: right;\n",
       "    }\n",
       "</style>\n",
       "<table border=\"1\" class=\"dataframe\">\n",
       "  <thead>\n",
       "    <tr style=\"text-align: right;\">\n",
       "      <th></th>\n",
       "      <th>productname_2</th>\n",
       "      <th>price_1</th>\n",
       "      <th>price_2</th>\n",
       "      <th>discount_2</th>\n",
       "    </tr>\n",
       "  </thead>\n",
       "  <tbody>\n",
       "    <tr>\n",
       "      <th>0</th>\n",
       "      <td>HP Pavilion Laptop 14-dv1000TU</td>\n",
       "      <td>62999</td>\n",
       "      <td>64999</td>\n",
       "      <td>2000</td>\n",
       "    </tr>\n",
       "    <tr>\n",
       "      <th>1</th>\n",
       "      <td>HP Pavilion Laptop 15-eg1000TU</td>\n",
       "      <td>66999</td>\n",
       "      <td>77327</td>\n",
       "      <td>10328</td>\n",
       "    </tr>\n",
       "    <tr>\n",
       "      <th>2</th>\n",
       "      <td>HP Pavilion Laptop 14-dv1001TU</td>\n",
       "      <td>67999</td>\n",
       "      <td>79444</td>\n",
       "      <td>11445</td>\n",
       "    </tr>\n",
       "    <tr>\n",
       "      <th>3</th>\n",
       "      <td>HP Pavilion Gaming Laptop 15-dk2095TX</td>\n",
       "      <td>73990</td>\n",
       "      <td>87716</td>\n",
       "      <td>13726</td>\n",
       "    </tr>\n",
       "    <tr>\n",
       "      <th>4</th>\n",
       "      <td>HP ENVY Laptop 13-ba1501TX</td>\n",
       "      <td>84999</td>\n",
       "      <td>99202</td>\n",
       "      <td>14203</td>\n",
       "    </tr>\n",
       "    <tr>\n",
       "      <th>5</th>\n",
       "      <td>HP ENVY Laptop 14-eb0019TX</td>\n",
       "      <td>104999</td>\n",
       "      <td>114975</td>\n",
       "      <td>9976</td>\n",
       "    </tr>\n",
       "    <tr>\n",
       "      <th>6</th>\n",
       "      <td>HP Pavilion Gaming Laptop 15-dk2012TX</td>\n",
       "      <td>77990</td>\n",
       "      <td>93564</td>\n",
       "      <td>15574</td>\n",
       "    </tr>\n",
       "    <tr>\n",
       "      <th>7</th>\n",
       "      <td>HP ENVY Laptop 14-eb0020TX</td>\n",
       "      <td>109999</td>\n",
       "      <td>130290</td>\n",
       "      <td>20291</td>\n",
       "    </tr>\n",
       "    <tr>\n",
       "      <th>8</th>\n",
       "      <td>HP Spectre x360 Convertible 14-ea0538TU</td>\n",
       "      <td>119999</td>\n",
       "      <td>138165</td>\n",
       "      <td>18166</td>\n",
       "    </tr>\n",
       "    <tr>\n",
       "      <th>9</th>\n",
       "      <td>HP Spectre x360 Convertible 14-ea0542TU</td>\n",
       "      <td>134999</td>\n",
       "      <td>155436</td>\n",
       "      <td>20437</td>\n",
       "    </tr>\n",
       "  </tbody>\n",
       "</table>\n",
       "</div>"
      ],
      "text/plain": [
       "                             productname_2  price_1  price_2  discount_2\n",
       "0           HP Pavilion Laptop 14-dv1000TU    62999    64999        2000\n",
       "1           HP Pavilion Laptop 15-eg1000TU    66999    77327       10328\n",
       "2           HP Pavilion Laptop 14-dv1001TU    67999    79444       11445\n",
       "3    HP Pavilion Gaming Laptop 15-dk2095TX    73990    87716       13726\n",
       "4               HP ENVY Laptop 13-ba1501TX    84999    99202       14203\n",
       "5               HP ENVY Laptop 14-eb0019TX   104999   114975        9976\n",
       "6    HP Pavilion Gaming Laptop 15-dk2012TX    77990    93564       15574\n",
       "7               HP ENVY Laptop 14-eb0020TX   109999   130290       20291\n",
       "8  HP Spectre x360 Convertible 14-ea0538TU   119999   138165       18166\n",
       "9  HP Spectre x360 Convertible 14-ea0542TU   134999   155436       20437"
      ]
     },
     "execution_count": 48,
     "metadata": {},
     "output_type": "execute_result"
    }
   ],
   "source": [
    "del df2['Unnamed: 0']    #deleting unwanted columns\n",
    "df2"
   ]
  },
  {
   "cell_type": "code",
   "execution_count": 49,
   "id": "b8e90072",
   "metadata": {},
   "outputs": [
    {
     "data": {
      "text/html": [
       "<div>\n",
       "<style scoped>\n",
       "    .dataframe tbody tr th:only-of-type {\n",
       "        vertical-align: middle;\n",
       "    }\n",
       "\n",
       "    .dataframe tbody tr th {\n",
       "        vertical-align: top;\n",
       "    }\n",
       "\n",
       "    .dataframe thead th {\n",
       "        text-align: right;\n",
       "    }\n",
       "</style>\n",
       "<table border=\"1\" class=\"dataframe\">\n",
       "  <thead>\n",
       "    <tr style=\"text-align: right;\">\n",
       "      <th></th>\n",
       "      <th>productname_1</th>\n",
       "      <th>PRICE_1</th>\n",
       "      <th>PRICE_2</th>\n",
       "      <th>Discount_1</th>\n",
       "      <th>productname_2</th>\n",
       "      <th>price_1</th>\n",
       "      <th>price_2</th>\n",
       "      <th>discount_2</th>\n",
       "    </tr>\n",
       "  </thead>\n",
       "  <tbody>\n",
       "    <tr>\n",
       "      <th>0</th>\n",
       "      <td>HP Pavilion x360 Convertible Core i5 11th Gen ...</td>\n",
       "      <td>70990</td>\n",
       "      <td>81356</td>\n",
       "      <td>10366</td>\n",
       "      <td>HP Pavilion Laptop 14-dv1000TU</td>\n",
       "      <td>62999</td>\n",
       "      <td>64999</td>\n",
       "      <td>2000</td>\n",
       "    </tr>\n",
       "    <tr>\n",
       "      <th>1</th>\n",
       "      <td>HP 14s Core i5 11th Gen - (8 GB/512 GB SSD/Win...</td>\n",
       "      <td>57990</td>\n",
       "      <td>63179</td>\n",
       "      <td>5189</td>\n",
       "      <td>HP Pavilion Laptop 15-eg1000TU</td>\n",
       "      <td>66999</td>\n",
       "      <td>77327</td>\n",
       "      <td>10328</td>\n",
       "    </tr>\n",
       "    <tr>\n",
       "      <th>2</th>\n",
       "      <td>HP Pavilion Core i5 11th Gen - (8 GB/512 GB SS...</td>\n",
       "      <td>62990</td>\n",
       "      <td>71000</td>\n",
       "      <td>8010</td>\n",
       "      <td>HP Pavilion Laptop 14-dv1001TU</td>\n",
       "      <td>67999</td>\n",
       "      <td>79444</td>\n",
       "      <td>11445</td>\n",
       "    </tr>\n",
       "    <tr>\n",
       "      <th>3</th>\n",
       "      <td>HP Core i5 11th Gen - (8 GB + 32 GB Optane/512...</td>\n",
       "      <td>56690</td>\n",
       "      <td>59452</td>\n",
       "      <td>2762</td>\n",
       "      <td>HP Pavilion Gaming Laptop 15-dk2095TX</td>\n",
       "      <td>73990</td>\n",
       "      <td>87716</td>\n",
       "      <td>13726</td>\n",
       "    </tr>\n",
       "    <tr>\n",
       "      <th>4</th>\n",
       "      <td>HP Pavilion Core i5 11th Gen - (16 GB/512 GB S...</td>\n",
       "      <td>66990</td>\n",
       "      <td>77141</td>\n",
       "      <td>10151</td>\n",
       "      <td>HP ENVY Laptop 13-ba1501TX</td>\n",
       "      <td>84999</td>\n",
       "      <td>99202</td>\n",
       "      <td>14203</td>\n",
       "    </tr>\n",
       "    <tr>\n",
       "      <th>5</th>\n",
       "      <td>HP Pavilion Core i5 11th Gen - (16 GB/512 GB S...</td>\n",
       "      <td>67999</td>\n",
       "      <td>79445</td>\n",
       "      <td>11446</td>\n",
       "      <td>HP ENVY Laptop 14-eb0019TX</td>\n",
       "      <td>104999</td>\n",
       "      <td>114975</td>\n",
       "      <td>9976</td>\n",
       "    </tr>\n",
       "    <tr>\n",
       "      <th>6</th>\n",
       "      <td>HP HP Pavilion Core i5 11th Gen - (16 GB/512 G...</td>\n",
       "      <td>66990</td>\n",
       "      <td>72536</td>\n",
       "      <td>5546</td>\n",
       "      <td>HP Pavilion Gaming Laptop 15-dk2012TX</td>\n",
       "      <td>77990</td>\n",
       "      <td>93564</td>\n",
       "      <td>15574</td>\n",
       "    </tr>\n",
       "    <tr>\n",
       "      <th>7</th>\n",
       "      <td>HP HP Envy Core i5 11th Gen - (16 GB/512 GB SS...</td>\n",
       "      <td>99990</td>\n",
       "      <td>113000</td>\n",
       "      <td>13010</td>\n",
       "      <td>HP ENVY Laptop 14-eb0020TX</td>\n",
       "      <td>109999</td>\n",
       "      <td>130290</td>\n",
       "      <td>20291</td>\n",
       "    </tr>\n",
       "    <tr>\n",
       "      <th>8</th>\n",
       "      <td>HP Pavilion Core i5 11th Gen - (16 GB/512 GB S...</td>\n",
       "      <td>67990</td>\n",
       "      <td>79444</td>\n",
       "      <td>11454</td>\n",
       "      <td>HP Spectre x360 Convertible 14-ea0538TU</td>\n",
       "      <td>119999</td>\n",
       "      <td>138165</td>\n",
       "      <td>18166</td>\n",
       "    </tr>\n",
       "    <tr>\n",
       "      <th>9</th>\n",
       "      <td>HP Spectre x360 13 Series Core i5 11th Gen - (...</td>\n",
       "      <td>101990</td>\n",
       "      <td>114749</td>\n",
       "      <td>12759</td>\n",
       "      <td>HP Spectre x360 Convertible 14-ea0542TU</td>\n",
       "      <td>134999</td>\n",
       "      <td>155436</td>\n",
       "      <td>20437</td>\n",
       "    </tr>\n",
       "  </tbody>\n",
       "</table>\n",
       "</div>"
      ],
      "text/plain": [
       "                                       productname_1  PRICE_1  PRICE_2  \\\n",
       "0  HP Pavilion x360 Convertible Core i5 11th Gen ...    70990    81356   \n",
       "1  HP 14s Core i5 11th Gen - (8 GB/512 GB SSD/Win...    57990    63179   \n",
       "2  HP Pavilion Core i5 11th Gen - (8 GB/512 GB SS...    62990    71000   \n",
       "3  HP Core i5 11th Gen - (8 GB + 32 GB Optane/512...    56690    59452   \n",
       "4  HP Pavilion Core i5 11th Gen - (16 GB/512 GB S...    66990    77141   \n",
       "5  HP Pavilion Core i5 11th Gen - (16 GB/512 GB S...    67999    79445   \n",
       "6  HP HP Pavilion Core i5 11th Gen - (16 GB/512 G...    66990    72536   \n",
       "7  HP HP Envy Core i5 11th Gen - (16 GB/512 GB SS...    99990   113000   \n",
       "8  HP Pavilion Core i5 11th Gen - (16 GB/512 GB S...    67990    79444   \n",
       "9  HP Spectre x360 13 Series Core i5 11th Gen - (...   101990   114749   \n",
       "\n",
       "   Discount_1                            productname_2  price_1  price_2  \\\n",
       "0       10366           HP Pavilion Laptop 14-dv1000TU    62999    64999   \n",
       "1        5189           HP Pavilion Laptop 15-eg1000TU    66999    77327   \n",
       "2        8010           HP Pavilion Laptop 14-dv1001TU    67999    79444   \n",
       "3        2762    HP Pavilion Gaming Laptop 15-dk2095TX    73990    87716   \n",
       "4       10151               HP ENVY Laptop 13-ba1501TX    84999    99202   \n",
       "5       11446               HP ENVY Laptop 14-eb0019TX   104999   114975   \n",
       "6        5546    HP Pavilion Gaming Laptop 15-dk2012TX    77990    93564   \n",
       "7       13010               HP ENVY Laptop 14-eb0020TX   109999   130290   \n",
       "8       11454  HP Spectre x360 Convertible 14-ea0538TU   119999   138165   \n",
       "9       12759  HP Spectre x360 Convertible 14-ea0542TU   134999   155436   \n",
       "\n",
       "   discount_2  \n",
       "0        2000  \n",
       "1       10328  \n",
       "2       11445  \n",
       "3       13726  \n",
       "4       14203  \n",
       "5        9976  \n",
       "6       15574  \n",
       "7       20291  \n",
       "8       18166  \n",
       "9       20437  "
      ]
     },
     "execution_count": 49,
     "metadata": {},
     "output_type": "execute_result"
    }
   ],
   "source": [
    "## DATA WRANGLING ##\n",
    "df=df1.join(df2)     #merging two dataframes\n",
    "f=pd.DataFrame(df)\n",
    "f"
   ]
  },
  {
   "cell_type": "code",
   "execution_count": 50,
   "id": "ce86e38e",
   "metadata": {},
   "outputs": [
    {
     "data": {
      "text/html": [
       "<div>\n",
       "<style scoped>\n",
       "    .dataframe tbody tr th:only-of-type {\n",
       "        vertical-align: middle;\n",
       "    }\n",
       "\n",
       "    .dataframe tbody tr th {\n",
       "        vertical-align: top;\n",
       "    }\n",
       "\n",
       "    .dataframe thead th {\n",
       "        text-align: right;\n",
       "    }\n",
       "</style>\n",
       "<table border=\"1\" class=\"dataframe\">\n",
       "  <thead>\n",
       "    <tr style=\"text-align: right;\">\n",
       "      <th></th>\n",
       "      <th>productname_1</th>\n",
       "      <th>PRICE_1</th>\n",
       "      <th>PRICE_2</th>\n",
       "      <th>Discount_1</th>\n",
       "      <th>productname_2</th>\n",
       "      <th>price_1</th>\n",
       "      <th>price_2</th>\n",
       "      <th>discount_2</th>\n",
       "    </tr>\n",
       "  </thead>\n",
       "  <tbody>\n",
       "    <tr>\n",
       "      <th>1</th>\n",
       "      <td>HP Pavilion x360 Convertible Core i5 11th Gen ...</td>\n",
       "      <td>70990</td>\n",
       "      <td>81356</td>\n",
       "      <td>10366</td>\n",
       "      <td>HP Pavilion Laptop 14-dv1000TU</td>\n",
       "      <td>62999</td>\n",
       "      <td>64999</td>\n",
       "      <td>2000</td>\n",
       "    </tr>\n",
       "    <tr>\n",
       "      <th>2</th>\n",
       "      <td>HP 14s Core i5 11th Gen - (8 GB/512 GB SSD/Win...</td>\n",
       "      <td>57990</td>\n",
       "      <td>63179</td>\n",
       "      <td>5189</td>\n",
       "      <td>HP Pavilion Laptop 15-eg1000TU</td>\n",
       "      <td>66999</td>\n",
       "      <td>77327</td>\n",
       "      <td>10328</td>\n",
       "    </tr>\n",
       "    <tr>\n",
       "      <th>3</th>\n",
       "      <td>HP Pavilion Core i5 11th Gen - (8 GB/512 GB SS...</td>\n",
       "      <td>62990</td>\n",
       "      <td>71000</td>\n",
       "      <td>8010</td>\n",
       "      <td>HP Pavilion Laptop 14-dv1001TU</td>\n",
       "      <td>67999</td>\n",
       "      <td>79444</td>\n",
       "      <td>11445</td>\n",
       "    </tr>\n",
       "    <tr>\n",
       "      <th>4</th>\n",
       "      <td>HP Core i5 11th Gen - (8 GB + 32 GB Optane/512...</td>\n",
       "      <td>56690</td>\n",
       "      <td>59452</td>\n",
       "      <td>2762</td>\n",
       "      <td>HP Pavilion Gaming Laptop 15-dk2095TX</td>\n",
       "      <td>73990</td>\n",
       "      <td>87716</td>\n",
       "      <td>13726</td>\n",
       "    </tr>\n",
       "    <tr>\n",
       "      <th>5</th>\n",
       "      <td>HP Pavilion Core i5 11th Gen - (16 GB/512 GB S...</td>\n",
       "      <td>66990</td>\n",
       "      <td>77141</td>\n",
       "      <td>10151</td>\n",
       "      <td>HP ENVY Laptop 13-ba1501TX</td>\n",
       "      <td>84999</td>\n",
       "      <td>99202</td>\n",
       "      <td>14203</td>\n",
       "    </tr>\n",
       "    <tr>\n",
       "      <th>6</th>\n",
       "      <td>HP Pavilion Core i5 11th Gen - (16 GB/512 GB S...</td>\n",
       "      <td>67999</td>\n",
       "      <td>79445</td>\n",
       "      <td>11446</td>\n",
       "      <td>HP ENVY Laptop 14-eb0019TX</td>\n",
       "      <td>104999</td>\n",
       "      <td>114975</td>\n",
       "      <td>9976</td>\n",
       "    </tr>\n",
       "    <tr>\n",
       "      <th>7</th>\n",
       "      <td>HP HP Pavilion Core i5 11th Gen - (16 GB/512 G...</td>\n",
       "      <td>66990</td>\n",
       "      <td>72536</td>\n",
       "      <td>5546</td>\n",
       "      <td>HP Pavilion Gaming Laptop 15-dk2012TX</td>\n",
       "      <td>77990</td>\n",
       "      <td>93564</td>\n",
       "      <td>15574</td>\n",
       "    </tr>\n",
       "    <tr>\n",
       "      <th>8</th>\n",
       "      <td>HP HP Envy Core i5 11th Gen - (16 GB/512 GB SS...</td>\n",
       "      <td>99990</td>\n",
       "      <td>113000</td>\n",
       "      <td>13010</td>\n",
       "      <td>HP ENVY Laptop 14-eb0020TX</td>\n",
       "      <td>109999</td>\n",
       "      <td>130290</td>\n",
       "      <td>20291</td>\n",
       "    </tr>\n",
       "    <tr>\n",
       "      <th>9</th>\n",
       "      <td>HP Pavilion Core i5 11th Gen - (16 GB/512 GB S...</td>\n",
       "      <td>67990</td>\n",
       "      <td>79444</td>\n",
       "      <td>11454</td>\n",
       "      <td>HP Spectre x360 Convertible 14-ea0538TU</td>\n",
       "      <td>119999</td>\n",
       "      <td>138165</td>\n",
       "      <td>18166</td>\n",
       "    </tr>\n",
       "    <tr>\n",
       "      <th>10</th>\n",
       "      <td>HP Spectre x360 13 Series Core i5 11th Gen - (...</td>\n",
       "      <td>101990</td>\n",
       "      <td>114749</td>\n",
       "      <td>12759</td>\n",
       "      <td>HP Spectre x360 Convertible 14-ea0542TU</td>\n",
       "      <td>134999</td>\n",
       "      <td>155436</td>\n",
       "      <td>20437</td>\n",
       "    </tr>\n",
       "  </tbody>\n",
       "</table>\n",
       "</div>"
      ],
      "text/plain": [
       "                                        productname_1  PRICE_1  PRICE_2  \\\n",
       "1   HP Pavilion x360 Convertible Core i5 11th Gen ...    70990    81356   \n",
       "2   HP 14s Core i5 11th Gen - (8 GB/512 GB SSD/Win...    57990    63179   \n",
       "3   HP Pavilion Core i5 11th Gen - (8 GB/512 GB SS...    62990    71000   \n",
       "4   HP Core i5 11th Gen - (8 GB + 32 GB Optane/512...    56690    59452   \n",
       "5   HP Pavilion Core i5 11th Gen - (16 GB/512 GB S...    66990    77141   \n",
       "6   HP Pavilion Core i5 11th Gen - (16 GB/512 GB S...    67999    79445   \n",
       "7   HP HP Pavilion Core i5 11th Gen - (16 GB/512 G...    66990    72536   \n",
       "8   HP HP Envy Core i5 11th Gen - (16 GB/512 GB SS...    99990   113000   \n",
       "9   HP Pavilion Core i5 11th Gen - (16 GB/512 GB S...    67990    79444   \n",
       "10  HP Spectre x360 13 Series Core i5 11th Gen - (...   101990   114749   \n",
       "\n",
       "    Discount_1                            productname_2  price_1  price_2  \\\n",
       "1        10366           HP Pavilion Laptop 14-dv1000TU    62999    64999   \n",
       "2         5189           HP Pavilion Laptop 15-eg1000TU    66999    77327   \n",
       "3         8010           HP Pavilion Laptop 14-dv1001TU    67999    79444   \n",
       "4         2762    HP Pavilion Gaming Laptop 15-dk2095TX    73990    87716   \n",
       "5        10151               HP ENVY Laptop 13-ba1501TX    84999    99202   \n",
       "6        11446               HP ENVY Laptop 14-eb0019TX   104999   114975   \n",
       "7         5546    HP Pavilion Gaming Laptop 15-dk2012TX    77990    93564   \n",
       "8        13010               HP ENVY Laptop 14-eb0020TX   109999   130290   \n",
       "9        11454  HP Spectre x360 Convertible 14-ea0538TU   119999   138165   \n",
       "10       12759  HP Spectre x360 Convertible 14-ea0542TU   134999   155436   \n",
       "\n",
       "    discount_2  \n",
       "1         2000  \n",
       "2        10328  \n",
       "3        11445  \n",
       "4        13726  \n",
       "5        14203  \n",
       "6         9976  \n",
       "7        15574  \n",
       "8        20291  \n",
       "9        18166  \n",
       "10       20437  "
      ]
     },
     "execution_count": 50,
     "metadata": {},
     "output_type": "execute_result"
    }
   ],
   "source": [
    "df.index = np.arange(1,len(df)+1)   #deleting index 0\n",
    "df"
   ]
  },
  {
   "cell_type": "code",
   "execution_count": 51,
   "id": "80672f8c",
   "metadata": {},
   "outputs": [],
   "source": [
    "df.to_excel(\"LaptopData.xlsx\") #creating excel data"
   ]
  },
  {
   "cell_type": "code",
   "execution_count": 52,
   "id": "4c95e312",
   "metadata": {},
   "outputs": [
    {
     "data": {
      "text/html": [
       "<div>\n",
       "<style scoped>\n",
       "    .dataframe tbody tr th:only-of-type {\n",
       "        vertical-align: middle;\n",
       "    }\n",
       "\n",
       "    .dataframe tbody tr th {\n",
       "        vertical-align: top;\n",
       "    }\n",
       "\n",
       "    .dataframe thead th {\n",
       "        text-align: right;\n",
       "    }\n",
       "</style>\n",
       "<table border=\"1\" class=\"dataframe\">\n",
       "  <thead>\n",
       "    <tr style=\"text-align: right;\">\n",
       "      <th></th>\n",
       "      <th>Unnamed: 0</th>\n",
       "      <th>productname_1</th>\n",
       "      <th>PRICE_1</th>\n",
       "      <th>PRICE_2</th>\n",
       "      <th>Discount_1</th>\n",
       "      <th>productname_2</th>\n",
       "      <th>price_1</th>\n",
       "      <th>price_2</th>\n",
       "      <th>discount_2</th>\n",
       "    </tr>\n",
       "  </thead>\n",
       "  <tbody>\n",
       "    <tr>\n",
       "      <th>0</th>\n",
       "      <td>1</td>\n",
       "      <td>HP Pavilion x360 Convertible Core i5 11th Gen ...</td>\n",
       "      <td>70990</td>\n",
       "      <td>81356</td>\n",
       "      <td>10366</td>\n",
       "      <td>HP Pavilion Laptop 14-dv1000TU</td>\n",
       "      <td>62999</td>\n",
       "      <td>64999</td>\n",
       "      <td>2000</td>\n",
       "    </tr>\n",
       "    <tr>\n",
       "      <th>1</th>\n",
       "      <td>2</td>\n",
       "      <td>HP 14s Core i5 11th Gen - (8 GB/512 GB SSD/Win...</td>\n",
       "      <td>57990</td>\n",
       "      <td>63179</td>\n",
       "      <td>5189</td>\n",
       "      <td>HP Pavilion Laptop 15-eg1000TU</td>\n",
       "      <td>66999</td>\n",
       "      <td>77327</td>\n",
       "      <td>10328</td>\n",
       "    </tr>\n",
       "    <tr>\n",
       "      <th>2</th>\n",
       "      <td>3</td>\n",
       "      <td>HP Pavilion Core i5 11th Gen - (8 GB/512 GB SS...</td>\n",
       "      <td>62990</td>\n",
       "      <td>71000</td>\n",
       "      <td>8010</td>\n",
       "      <td>HP Pavilion Laptop 14-dv1001TU</td>\n",
       "      <td>67999</td>\n",
       "      <td>79444</td>\n",
       "      <td>11445</td>\n",
       "    </tr>\n",
       "    <tr>\n",
       "      <th>3</th>\n",
       "      <td>4</td>\n",
       "      <td>HP Core i5 11th Gen - (8 GB + 32 GB Optane/512...</td>\n",
       "      <td>56690</td>\n",
       "      <td>59452</td>\n",
       "      <td>2762</td>\n",
       "      <td>HP Pavilion Gaming Laptop 15-dk2095TX</td>\n",
       "      <td>73990</td>\n",
       "      <td>87716</td>\n",
       "      <td>13726</td>\n",
       "    </tr>\n",
       "    <tr>\n",
       "      <th>4</th>\n",
       "      <td>5</td>\n",
       "      <td>HP Pavilion Core i5 11th Gen - (16 GB/512 GB S...</td>\n",
       "      <td>66990</td>\n",
       "      <td>77141</td>\n",
       "      <td>10151</td>\n",
       "      <td>HP ENVY Laptop 13-ba1501TX</td>\n",
       "      <td>84999</td>\n",
       "      <td>99202</td>\n",
       "      <td>14203</td>\n",
       "    </tr>\n",
       "    <tr>\n",
       "      <th>5</th>\n",
       "      <td>6</td>\n",
       "      <td>HP Pavilion Core i5 11th Gen - (16 GB/512 GB S...</td>\n",
       "      <td>67999</td>\n",
       "      <td>79445</td>\n",
       "      <td>11446</td>\n",
       "      <td>HP ENVY Laptop 14-eb0019TX</td>\n",
       "      <td>104999</td>\n",
       "      <td>114975</td>\n",
       "      <td>9976</td>\n",
       "    </tr>\n",
       "    <tr>\n",
       "      <th>6</th>\n",
       "      <td>7</td>\n",
       "      <td>HP HP Pavilion Core i5 11th Gen - (16 GB/512 G...</td>\n",
       "      <td>66990</td>\n",
       "      <td>72536</td>\n",
       "      <td>5546</td>\n",
       "      <td>HP Pavilion Gaming Laptop 15-dk2012TX</td>\n",
       "      <td>77990</td>\n",
       "      <td>93564</td>\n",
       "      <td>15574</td>\n",
       "    </tr>\n",
       "    <tr>\n",
       "      <th>7</th>\n",
       "      <td>8</td>\n",
       "      <td>HP HP Envy Core i5 11th Gen - (16 GB/512 GB SS...</td>\n",
       "      <td>99990</td>\n",
       "      <td>113000</td>\n",
       "      <td>13010</td>\n",
       "      <td>HP ENVY Laptop 14-eb0020TX</td>\n",
       "      <td>109999</td>\n",
       "      <td>130290</td>\n",
       "      <td>20291</td>\n",
       "    </tr>\n",
       "    <tr>\n",
       "      <th>8</th>\n",
       "      <td>9</td>\n",
       "      <td>HP Pavilion Core i5 11th Gen - (16 GB/512 GB S...</td>\n",
       "      <td>67990</td>\n",
       "      <td>79444</td>\n",
       "      <td>11454</td>\n",
       "      <td>HP Spectre x360 Convertible 14-ea0538TU</td>\n",
       "      <td>119999</td>\n",
       "      <td>138165</td>\n",
       "      <td>18166</td>\n",
       "    </tr>\n",
       "    <tr>\n",
       "      <th>9</th>\n",
       "      <td>10</td>\n",
       "      <td>HP Spectre x360 13 Series Core i5 11th Gen - (...</td>\n",
       "      <td>101990</td>\n",
       "      <td>114749</td>\n",
       "      <td>12759</td>\n",
       "      <td>HP Spectre x360 Convertible 14-ea0542TU</td>\n",
       "      <td>134999</td>\n",
       "      <td>155436</td>\n",
       "      <td>20437</td>\n",
       "    </tr>\n",
       "  </tbody>\n",
       "</table>\n",
       "</div>"
      ],
      "text/plain": [
       "   Unnamed: 0                                      productname_1  PRICE_1  \\\n",
       "0           1  HP Pavilion x360 Convertible Core i5 11th Gen ...    70990   \n",
       "1           2  HP 14s Core i5 11th Gen - (8 GB/512 GB SSD/Win...    57990   \n",
       "2           3  HP Pavilion Core i5 11th Gen - (8 GB/512 GB SS...    62990   \n",
       "3           4  HP Core i5 11th Gen - (8 GB + 32 GB Optane/512...    56690   \n",
       "4           5  HP Pavilion Core i5 11th Gen - (16 GB/512 GB S...    66990   \n",
       "5           6  HP Pavilion Core i5 11th Gen - (16 GB/512 GB S...    67999   \n",
       "6           7  HP HP Pavilion Core i5 11th Gen - (16 GB/512 G...    66990   \n",
       "7           8  HP HP Envy Core i5 11th Gen - (16 GB/512 GB SS...    99990   \n",
       "8           9  HP Pavilion Core i5 11th Gen - (16 GB/512 GB S...    67990   \n",
       "9          10  HP Spectre x360 13 Series Core i5 11th Gen - (...   101990   \n",
       "\n",
       "   PRICE_2  Discount_1                            productname_2  price_1  \\\n",
       "0    81356       10366           HP Pavilion Laptop 14-dv1000TU    62999   \n",
       "1    63179        5189           HP Pavilion Laptop 15-eg1000TU    66999   \n",
       "2    71000        8010           HP Pavilion Laptop 14-dv1001TU    67999   \n",
       "3    59452        2762    HP Pavilion Gaming Laptop 15-dk2095TX    73990   \n",
       "4    77141       10151               HP ENVY Laptop 13-ba1501TX    84999   \n",
       "5    79445       11446               HP ENVY Laptop 14-eb0019TX   104999   \n",
       "6    72536        5546    HP Pavilion Gaming Laptop 15-dk2012TX    77990   \n",
       "7   113000       13010               HP ENVY Laptop 14-eb0020TX   109999   \n",
       "8    79444       11454  HP Spectre x360 Convertible 14-ea0538TU   119999   \n",
       "9   114749       12759  HP Spectre x360 Convertible 14-ea0542TU   134999   \n",
       "\n",
       "   price_2  discount_2  \n",
       "0    64999        2000  \n",
       "1    77327       10328  \n",
       "2    79444       11445  \n",
       "3    87716       13726  \n",
       "4    99202       14203  \n",
       "5   114975        9976  \n",
       "6    93564       15574  \n",
       "7   130290       20291  \n",
       "8   138165       18166  \n",
       "9   155436       20437  "
      ]
     },
     "execution_count": 52,
     "metadata": {},
     "output_type": "execute_result"
    }
   ],
   "source": [
    "df=pd.read_csv('Laptopdata.csv')  #converting excel data into csv data\n",
    "df"
   ]
  },
  {
   "cell_type": "code",
   "execution_count": 53,
   "id": "b7434eb1",
   "metadata": {},
   "outputs": [
    {
     "data": {
      "text/html": [
       "<div>\n",
       "<style scoped>\n",
       "    .dataframe tbody tr th:only-of-type {\n",
       "        vertical-align: middle;\n",
       "    }\n",
       "\n",
       "    .dataframe tbody tr th {\n",
       "        vertical-align: top;\n",
       "    }\n",
       "\n",
       "    .dataframe thead th {\n",
       "        text-align: right;\n",
       "    }\n",
       "</style>\n",
       "<table border=\"1\" class=\"dataframe\">\n",
       "  <thead>\n",
       "    <tr style=\"text-align: right;\">\n",
       "      <th></th>\n",
       "      <th>productname_1</th>\n",
       "      <th>PRICE_1</th>\n",
       "      <th>PRICE_2</th>\n",
       "      <th>Discount_1</th>\n",
       "      <th>productname_2</th>\n",
       "      <th>price_1</th>\n",
       "      <th>price_2</th>\n",
       "      <th>discount_2</th>\n",
       "    </tr>\n",
       "  </thead>\n",
       "  <tbody>\n",
       "    <tr>\n",
       "      <th>0</th>\n",
       "      <td>HP Pavilion x360 Convertible Core i5 11th Gen ...</td>\n",
       "      <td>70990</td>\n",
       "      <td>81356</td>\n",
       "      <td>10366</td>\n",
       "      <td>HP Pavilion Laptop 14-dv1000TU</td>\n",
       "      <td>62999</td>\n",
       "      <td>64999</td>\n",
       "      <td>2000</td>\n",
       "    </tr>\n",
       "    <tr>\n",
       "      <th>1</th>\n",
       "      <td>HP 14s Core i5 11th Gen - (8 GB/512 GB SSD/Win...</td>\n",
       "      <td>57990</td>\n",
       "      <td>63179</td>\n",
       "      <td>5189</td>\n",
       "      <td>HP Pavilion Laptop 15-eg1000TU</td>\n",
       "      <td>66999</td>\n",
       "      <td>77327</td>\n",
       "      <td>10328</td>\n",
       "    </tr>\n",
       "    <tr>\n",
       "      <th>2</th>\n",
       "      <td>HP Pavilion Core i5 11th Gen - (8 GB/512 GB SS...</td>\n",
       "      <td>62990</td>\n",
       "      <td>71000</td>\n",
       "      <td>8010</td>\n",
       "      <td>HP Pavilion Laptop 14-dv1001TU</td>\n",
       "      <td>67999</td>\n",
       "      <td>79444</td>\n",
       "      <td>11445</td>\n",
       "    </tr>\n",
       "    <tr>\n",
       "      <th>3</th>\n",
       "      <td>HP Core i5 11th Gen - (8 GB + 32 GB Optane/512...</td>\n",
       "      <td>56690</td>\n",
       "      <td>59452</td>\n",
       "      <td>2762</td>\n",
       "      <td>HP Pavilion Gaming Laptop 15-dk2095TX</td>\n",
       "      <td>73990</td>\n",
       "      <td>87716</td>\n",
       "      <td>13726</td>\n",
       "    </tr>\n",
       "    <tr>\n",
       "      <th>4</th>\n",
       "      <td>HP Pavilion Core i5 11th Gen - (16 GB/512 GB S...</td>\n",
       "      <td>66990</td>\n",
       "      <td>77141</td>\n",
       "      <td>10151</td>\n",
       "      <td>HP ENVY Laptop 13-ba1501TX</td>\n",
       "      <td>84999</td>\n",
       "      <td>99202</td>\n",
       "      <td>14203</td>\n",
       "    </tr>\n",
       "    <tr>\n",
       "      <th>5</th>\n",
       "      <td>HP Pavilion Core i5 11th Gen - (16 GB/512 GB S...</td>\n",
       "      <td>67999</td>\n",
       "      <td>79445</td>\n",
       "      <td>11446</td>\n",
       "      <td>HP ENVY Laptop 14-eb0019TX</td>\n",
       "      <td>104999</td>\n",
       "      <td>114975</td>\n",
       "      <td>9976</td>\n",
       "    </tr>\n",
       "    <tr>\n",
       "      <th>6</th>\n",
       "      <td>HP HP Pavilion Core i5 11th Gen - (16 GB/512 G...</td>\n",
       "      <td>66990</td>\n",
       "      <td>72536</td>\n",
       "      <td>5546</td>\n",
       "      <td>HP Pavilion Gaming Laptop 15-dk2012TX</td>\n",
       "      <td>77990</td>\n",
       "      <td>93564</td>\n",
       "      <td>15574</td>\n",
       "    </tr>\n",
       "    <tr>\n",
       "      <th>7</th>\n",
       "      <td>HP HP Envy Core i5 11th Gen - (16 GB/512 GB SS...</td>\n",
       "      <td>99990</td>\n",
       "      <td>113000</td>\n",
       "      <td>13010</td>\n",
       "      <td>HP ENVY Laptop 14-eb0020TX</td>\n",
       "      <td>109999</td>\n",
       "      <td>130290</td>\n",
       "      <td>20291</td>\n",
       "    </tr>\n",
       "    <tr>\n",
       "      <th>8</th>\n",
       "      <td>HP Pavilion Core i5 11th Gen - (16 GB/512 GB S...</td>\n",
       "      <td>67990</td>\n",
       "      <td>79444</td>\n",
       "      <td>11454</td>\n",
       "      <td>HP Spectre x360 Convertible 14-ea0538TU</td>\n",
       "      <td>119999</td>\n",
       "      <td>138165</td>\n",
       "      <td>18166</td>\n",
       "    </tr>\n",
       "    <tr>\n",
       "      <th>9</th>\n",
       "      <td>HP Spectre x360 13 Series Core i5 11th Gen - (...</td>\n",
       "      <td>101990</td>\n",
       "      <td>114749</td>\n",
       "      <td>12759</td>\n",
       "      <td>HP Spectre x360 Convertible 14-ea0542TU</td>\n",
       "      <td>134999</td>\n",
       "      <td>155436</td>\n",
       "      <td>20437</td>\n",
       "    </tr>\n",
       "  </tbody>\n",
       "</table>\n",
       "</div>"
      ],
      "text/plain": [
       "                                       productname_1  PRICE_1  PRICE_2  \\\n",
       "0  HP Pavilion x360 Convertible Core i5 11th Gen ...    70990    81356   \n",
       "1  HP 14s Core i5 11th Gen - (8 GB/512 GB SSD/Win...    57990    63179   \n",
       "2  HP Pavilion Core i5 11th Gen - (8 GB/512 GB SS...    62990    71000   \n",
       "3  HP Core i5 11th Gen - (8 GB + 32 GB Optane/512...    56690    59452   \n",
       "4  HP Pavilion Core i5 11th Gen - (16 GB/512 GB S...    66990    77141   \n",
       "5  HP Pavilion Core i5 11th Gen - (16 GB/512 GB S...    67999    79445   \n",
       "6  HP HP Pavilion Core i5 11th Gen - (16 GB/512 G...    66990    72536   \n",
       "7  HP HP Envy Core i5 11th Gen - (16 GB/512 GB SS...    99990   113000   \n",
       "8  HP Pavilion Core i5 11th Gen - (16 GB/512 GB S...    67990    79444   \n",
       "9  HP Spectre x360 13 Series Core i5 11th Gen - (...   101990   114749   \n",
       "\n",
       "   Discount_1                            productname_2  price_1  price_2  \\\n",
       "0       10366           HP Pavilion Laptop 14-dv1000TU    62999    64999   \n",
       "1        5189           HP Pavilion Laptop 15-eg1000TU    66999    77327   \n",
       "2        8010           HP Pavilion Laptop 14-dv1001TU    67999    79444   \n",
       "3        2762    HP Pavilion Gaming Laptop 15-dk2095TX    73990    87716   \n",
       "4       10151               HP ENVY Laptop 13-ba1501TX    84999    99202   \n",
       "5       11446               HP ENVY Laptop 14-eb0019TX   104999   114975   \n",
       "6        5546    HP Pavilion Gaming Laptop 15-dk2012TX    77990    93564   \n",
       "7       13010               HP ENVY Laptop 14-eb0020TX   109999   130290   \n",
       "8       11454  HP Spectre x360 Convertible 14-ea0538TU   119999   138165   \n",
       "9       12759  HP Spectre x360 Convertible 14-ea0542TU   134999   155436   \n",
       "\n",
       "   discount_2  \n",
       "0        2000  \n",
       "1       10328  \n",
       "2       11445  \n",
       "3       13726  \n",
       "4       14203  \n",
       "5        9976  \n",
       "6       15574  \n",
       "7       20291  \n",
       "8       18166  \n",
       "9       20437  "
      ]
     },
     "execution_count": 53,
     "metadata": {},
     "output_type": "execute_result"
    }
   ],
   "source": [
    "del df['Unnamed: 0']    #deleting unwanted column\n",
    "df"
   ]
  },
  {
   "cell_type": "code",
   "execution_count": 54,
   "id": "1c04e73a",
   "metadata": {},
   "outputs": [
    {
     "data": {
      "text/html": [
       "<div>\n",
       "<style scoped>\n",
       "    .dataframe tbody tr th:only-of-type {\n",
       "        vertical-align: middle;\n",
       "    }\n",
       "\n",
       "    .dataframe tbody tr th {\n",
       "        vertical-align: top;\n",
       "    }\n",
       "\n",
       "    .dataframe thead th {\n",
       "        text-align: right;\n",
       "    }\n",
       "</style>\n",
       "<table border=\"1\" class=\"dataframe\">\n",
       "  <thead>\n",
       "    <tr style=\"text-align: right;\">\n",
       "      <th></th>\n",
       "      <th>productname_1</th>\n",
       "      <th>PRICE_1</th>\n",
       "      <th>PRICE_2</th>\n",
       "      <th>Discount_1</th>\n",
       "      <th>productname_2</th>\n",
       "      <th>price_1</th>\n",
       "      <th>price_2</th>\n",
       "      <th>discount_2</th>\n",
       "    </tr>\n",
       "  </thead>\n",
       "  <tbody>\n",
       "    <tr>\n",
       "      <th>1</th>\n",
       "      <td>HP Pavilion x360 Convertible Core i5 11th Gen ...</td>\n",
       "      <td>70990</td>\n",
       "      <td>81356</td>\n",
       "      <td>10366</td>\n",
       "      <td>HP Pavilion Laptop 14-dv1000TU</td>\n",
       "      <td>62999</td>\n",
       "      <td>64999</td>\n",
       "      <td>2000</td>\n",
       "    </tr>\n",
       "    <tr>\n",
       "      <th>2</th>\n",
       "      <td>HP 14s Core i5 11th Gen - (8 GB/512 GB SSD/Win...</td>\n",
       "      <td>57990</td>\n",
       "      <td>63179</td>\n",
       "      <td>5189</td>\n",
       "      <td>HP Pavilion Laptop 15-eg1000TU</td>\n",
       "      <td>66999</td>\n",
       "      <td>77327</td>\n",
       "      <td>10328</td>\n",
       "    </tr>\n",
       "    <tr>\n",
       "      <th>3</th>\n",
       "      <td>HP Pavilion Core i5 11th Gen - (8 GB/512 GB SS...</td>\n",
       "      <td>62990</td>\n",
       "      <td>71000</td>\n",
       "      <td>8010</td>\n",
       "      <td>HP Pavilion Laptop 14-dv1001TU</td>\n",
       "      <td>67999</td>\n",
       "      <td>79444</td>\n",
       "      <td>11445</td>\n",
       "    </tr>\n",
       "    <tr>\n",
       "      <th>4</th>\n",
       "      <td>HP Core i5 11th Gen - (8 GB + 32 GB Optane/512...</td>\n",
       "      <td>56690</td>\n",
       "      <td>59452</td>\n",
       "      <td>2762</td>\n",
       "      <td>HP Pavilion Gaming Laptop 15-dk2095TX</td>\n",
       "      <td>73990</td>\n",
       "      <td>87716</td>\n",
       "      <td>13726</td>\n",
       "    </tr>\n",
       "    <tr>\n",
       "      <th>5</th>\n",
       "      <td>HP Pavilion Core i5 11th Gen - (16 GB/512 GB S...</td>\n",
       "      <td>66990</td>\n",
       "      <td>77141</td>\n",
       "      <td>10151</td>\n",
       "      <td>HP ENVY Laptop 13-ba1501TX</td>\n",
       "      <td>84999</td>\n",
       "      <td>99202</td>\n",
       "      <td>14203</td>\n",
       "    </tr>\n",
       "    <tr>\n",
       "      <th>6</th>\n",
       "      <td>HP Pavilion Core i5 11th Gen - (16 GB/512 GB S...</td>\n",
       "      <td>67999</td>\n",
       "      <td>79445</td>\n",
       "      <td>11446</td>\n",
       "      <td>HP ENVY Laptop 14-eb0019TX</td>\n",
       "      <td>104999</td>\n",
       "      <td>114975</td>\n",
       "      <td>9976</td>\n",
       "    </tr>\n",
       "    <tr>\n",
       "      <th>7</th>\n",
       "      <td>HP HP Pavilion Core i5 11th Gen - (16 GB/512 G...</td>\n",
       "      <td>66990</td>\n",
       "      <td>72536</td>\n",
       "      <td>5546</td>\n",
       "      <td>HP Pavilion Gaming Laptop 15-dk2012TX</td>\n",
       "      <td>77990</td>\n",
       "      <td>93564</td>\n",
       "      <td>15574</td>\n",
       "    </tr>\n",
       "    <tr>\n",
       "      <th>8</th>\n",
       "      <td>HP HP Envy Core i5 11th Gen - (16 GB/512 GB SS...</td>\n",
       "      <td>99990</td>\n",
       "      <td>113000</td>\n",
       "      <td>13010</td>\n",
       "      <td>HP ENVY Laptop 14-eb0020TX</td>\n",
       "      <td>109999</td>\n",
       "      <td>130290</td>\n",
       "      <td>20291</td>\n",
       "    </tr>\n",
       "    <tr>\n",
       "      <th>9</th>\n",
       "      <td>HP Pavilion Core i5 11th Gen - (16 GB/512 GB S...</td>\n",
       "      <td>67990</td>\n",
       "      <td>79444</td>\n",
       "      <td>11454</td>\n",
       "      <td>HP Spectre x360 Convertible 14-ea0538TU</td>\n",
       "      <td>119999</td>\n",
       "      <td>138165</td>\n",
       "      <td>18166</td>\n",
       "    </tr>\n",
       "    <tr>\n",
       "      <th>10</th>\n",
       "      <td>HP Spectre x360 13 Series Core i5 11th Gen - (...</td>\n",
       "      <td>101990</td>\n",
       "      <td>114749</td>\n",
       "      <td>12759</td>\n",
       "      <td>HP Spectre x360 Convertible 14-ea0542TU</td>\n",
       "      <td>134999</td>\n",
       "      <td>155436</td>\n",
       "      <td>20437</td>\n",
       "    </tr>\n",
       "  </tbody>\n",
       "</table>\n",
       "</div>"
      ],
      "text/plain": [
       "                                        productname_1  PRICE_1  PRICE_2  \\\n",
       "1   HP Pavilion x360 Convertible Core i5 11th Gen ...    70990    81356   \n",
       "2   HP 14s Core i5 11th Gen - (8 GB/512 GB SSD/Win...    57990    63179   \n",
       "3   HP Pavilion Core i5 11th Gen - (8 GB/512 GB SS...    62990    71000   \n",
       "4   HP Core i5 11th Gen - (8 GB + 32 GB Optane/512...    56690    59452   \n",
       "5   HP Pavilion Core i5 11th Gen - (16 GB/512 GB S...    66990    77141   \n",
       "6   HP Pavilion Core i5 11th Gen - (16 GB/512 GB S...    67999    79445   \n",
       "7   HP HP Pavilion Core i5 11th Gen - (16 GB/512 G...    66990    72536   \n",
       "8   HP HP Envy Core i5 11th Gen - (16 GB/512 GB SS...    99990   113000   \n",
       "9   HP Pavilion Core i5 11th Gen - (16 GB/512 GB S...    67990    79444   \n",
       "10  HP Spectre x360 13 Series Core i5 11th Gen - (...   101990   114749   \n",
       "\n",
       "    Discount_1                            productname_2  price_1  price_2  \\\n",
       "1        10366           HP Pavilion Laptop 14-dv1000TU    62999    64999   \n",
       "2         5189           HP Pavilion Laptop 15-eg1000TU    66999    77327   \n",
       "3         8010           HP Pavilion Laptop 14-dv1001TU    67999    79444   \n",
       "4         2762    HP Pavilion Gaming Laptop 15-dk2095TX    73990    87716   \n",
       "5        10151               HP ENVY Laptop 13-ba1501TX    84999    99202   \n",
       "6        11446               HP ENVY Laptop 14-eb0019TX   104999   114975   \n",
       "7         5546    HP Pavilion Gaming Laptop 15-dk2012TX    77990    93564   \n",
       "8        13010               HP ENVY Laptop 14-eb0020TX   109999   130290   \n",
       "9        11454  HP Spectre x360 Convertible 14-ea0538TU   119999   138165   \n",
       "10       12759  HP Spectre x360 Convertible 14-ea0542TU   134999   155436   \n",
       "\n",
       "    discount_2  \n",
       "1         2000  \n",
       "2        10328  \n",
       "3        11445  \n",
       "4        13726  \n",
       "5        14203  \n",
       "6         9976  \n",
       "7        15574  \n",
       "8        20291  \n",
       "9        18166  \n",
       "10       20437  "
      ]
     },
     "execution_count": 54,
     "metadata": {},
     "output_type": "execute_result"
    }
   ],
   "source": [
    "df.index = np.arange(1,len(df)+1) #deleting index 0\n",
    "df"
   ]
  },
  {
   "cell_type": "code",
   "execution_count": 55,
   "id": "de38350b",
   "metadata": {},
   "outputs": [
    {
     "data": {
      "text/plain": [
       "72060.9"
      ]
     },
     "execution_count": 55,
     "metadata": {},
     "output_type": "execute_result"
    }
   ],
   "source": [
    "## COMPARING 2 WEBSITES PRICE \n",
    "df['PRICE_1'].mean()   #FLIPKART price"
   ]
  },
  {
   "cell_type": "code",
   "execution_count": 56,
   "id": "dbed0090",
   "metadata": {},
   "outputs": [
    {
     "data": {
      "text/plain": [
       "90497.2"
      ]
     },
     "execution_count": 56,
     "metadata": {},
     "output_type": "execute_result"
    }
   ],
   "source": [
    "df['price_1'].mean()   #HP price"
   ]
  },
  {
   "cell_type": "code",
   "execution_count": 57,
   "id": "0e8c3c87",
   "metadata": {},
   "outputs": [],
   "source": [
    "# Flipkart price is lesser than HP site's price"
   ]
  },
  {
   "cell_type": "code",
   "execution_count": 58,
   "id": "2cbadb29",
   "metadata": {},
   "outputs": [
    {
     "data": {
      "text/plain": [
       "9069.3"
      ]
     },
     "execution_count": 58,
     "metadata": {},
     "output_type": "execute_result"
    }
   ],
   "source": [
    "#COMPARING 2 WEBSITES DISCOUNTS\n",
    "df['Discount_1'].mean()   #FLIPKART discount"
   ]
  },
  {
   "cell_type": "code",
   "execution_count": 59,
   "id": "69ebe623",
   "metadata": {},
   "outputs": [
    {
     "data": {
      "text/plain": [
       "13614.6"
      ]
     },
     "execution_count": 59,
     "metadata": {},
     "output_type": "execute_result"
    }
   ],
   "source": [
    "df['discount_2'].mean()   #HP discount "
   ]
  },
  {
   "cell_type": "code",
   "execution_count": 60,
   "id": "264bb4b7",
   "metadata": {},
   "outputs": [],
   "source": [
    "# HP gives more discount than flipkart"
   ]
  },
  {
   "cell_type": "code",
   "execution_count": 61,
   "id": "18d58499",
   "metadata": {},
   "outputs": [
    {
     "data": {
      "text/plain": [
       "array([ 2762,  2762, 10366, 12759,  2762], dtype=int64)"
      ]
     },
     "execution_count": 61,
     "metadata": {},
     "output_type": "execute_result"
    }
   ],
   "source": [
    "## ERROR ANALYSIS ##\n",
    "sample=np.random.choice(a=df['Discount_1'],size=5)\n",
    "sample"
   ]
  },
  {
   "cell_type": "code",
   "execution_count": 62,
   "id": "98bb2adf",
   "metadata": {},
   "outputs": [
    {
     "data": {
      "text/plain": [
       "6282.2"
      ]
     },
     "execution_count": 62,
     "metadata": {},
     "output_type": "execute_result"
    }
   ],
   "source": [
    "k=sample.mean()  #Finding mean for Discount_1 sample\n",
    "k"
   ]
  },
  {
   "cell_type": "code",
   "execution_count": 63,
   "id": "9ff05dc3",
   "metadata": {},
   "outputs": [
    {
     "data": {
      "text/plain": [
       "1.6448536269514722"
      ]
     },
     "execution_count": 63,
     "metadata": {},
     "output_type": "execute_result"
    }
   ],
   "source": [
    "import scipy.stats as st\n",
    "z=st.norm.ppf(q=0.95)   #Z-score for the sample mean \n",
    "z"
   ]
  },
  {
   "cell_type": "code",
   "execution_count": 64,
   "id": "59132b08",
   "metadata": {},
   "outputs": [
    {
     "data": {
      "text/plain": [
       "3523.0120651384536"
      ]
     },
     "execution_count": 64,
     "metadata": {},
     "output_type": "execute_result"
    }
   ],
   "source": [
    "sd=df['Discount_1'].std()   #Finding standard deviation for Discount_1 sample\n",
    "sd"
   ]
  },
  {
   "cell_type": "code",
   "execution_count": 65,
   "id": "ae30fb4d",
   "metadata": {},
   "outputs": [
    {
     "name": "stdout",
     "output_type": "stream",
     "text": [
      "margin error in standard deviation 73.11146865545422\n"
     ]
    }
   ],
   "source": [
    "import math\n",
    "marginerror=z*(sd/math.sqrt(k))    # finding margin error\n",
    "print(\"margin error in standard deviation\",marginerror)"
   ]
  },
  {
   "cell_type": "code",
   "execution_count": 66,
   "id": "94bd6294",
   "metadata": {},
   "outputs": [
    {
     "data": {
      "text/plain": [
       "(6209.088531344546, 6355.311468655454)"
      ]
     },
     "execution_count": 66,
     "metadata": {},
     "output_type": "execute_result"
    }
   ],
   "source": [
    "#margin error \n",
    "c=(k-marginerror,k+marginerror)\n",
    "c"
   ]
  },
  {
   "cell_type": "code",
   "execution_count": 67,
   "id": "e941aeca",
   "metadata": {},
   "outputs": [
    {
     "data": {
      "text/plain": [
       "10"
      ]
     },
     "execution_count": 67,
     "metadata": {},
     "output_type": "execute_result"
    }
   ],
   "source": [
    "## INFERENTIAL STATISTICS ##\n",
    "A=df.shape[0]\n",
    "A"
   ]
  },
  {
   "cell_type": "code",
   "execution_count": 68,
   "id": "01024368",
   "metadata": {},
   "outputs": [
    {
     "data": {
      "text/plain": [
       "10"
      ]
     },
     "execution_count": 68,
     "metadata": {},
     "output_type": "execute_result"
    }
   ],
   "source": [
    "df['Discount_1'].value_counts().sum()"
   ]
  },
  {
   "cell_type": "code",
   "execution_count": 69,
   "id": "ae29235b",
   "metadata": {},
   "outputs": [
    {
     "data": {
      "text/plain": [
       "1"
      ]
     },
     "execution_count": 69,
     "metadata": {},
     "output_type": "execute_result"
    }
   ],
   "source": [
    "B=df[df['Discount_1']==5189].shape[0]\n",
    "B"
   ]
  },
  {
   "cell_type": "code",
   "execution_count": 70,
   "id": "5abf3c00",
   "metadata": {},
   "outputs": [
    {
     "name": "stdout",
     "output_type": "stream",
     "text": [
      "10.0\n"
     ]
    }
   ],
   "source": [
    "#Probability of Discount_1 price\n",
    "prob=(B/A)*100\n",
    "print(round(prob,2))"
   ]
  },
  {
   "cell_type": "code",
   "execution_count": 71,
   "id": "f05a3181",
   "metadata": {},
   "outputs": [
    {
     "data": {
      "text/plain": [
       "0.0"
      ]
     },
     "execution_count": 71,
     "metadata": {},
     "output_type": "execute_result"
    }
   ],
   "source": [
    "#Conditional Probability\n",
    "cond=(B/A)*((B-1)/(A-1))\n",
    "cond*100"
   ]
  },
  {
   "cell_type": "code",
   "execution_count": 73,
   "id": "9f142f57",
   "metadata": {},
   "outputs": [
    {
     "name": "stderr",
     "output_type": "stream",
     "text": [
      "C:\\Anaconda\\lib\\site-packages\\seaborn\\distributions.py:2557: FutureWarning: `distplot` is a deprecated function and will be removed in a future version. Please adapt your code to use either `displot` (a figure-level function with similar flexibility) or `histplot` (an axes-level function for histograms).\n",
      "  warnings.warn(msg, FutureWarning)\n"
     ]
    },
    {
     "data": {
      "image/png": "[encoded data removed]",
      "text/plain": [
       "<Figure size 432x288 with 1 Axes>"
      ]
     },
     "metadata": {
      "needs_background": "light"
     },
     "output_type": "display_data"
    },
    {
     "name": "stderr",
     "output_type": "stream",
     "text": [
      "C:\\Anaconda\\lib\\site-packages\\seaborn\\distributions.py:2557: FutureWarning: `distplot` is a deprecated function and will be removed in a future version. Please adapt your code to use either `displot` (a figure-level function with similar flexibility) or `histplot` (an axes-level function for histograms).\n",
      "  warnings.warn(msg, FutureWarning)\n"
     ]
    },
    {
     "data": {
      "image/png": "[encoded data removed]",
      "text/plain": [
       "<Figure size 432x288 with 1 Axes>"
      ]
     },
     "metadata": {
      "needs_background": "light"
     },
     "output_type": "display_data"
    }
   ],
   "source": [
    "#Skewness of discount price\n",
    "import matplotlib.pyplot as plt\n",
    "import seaborn as sns\n",
    "sns.distplot(df['Discount_1'])\n",
    "plt.show()\n",
    "sns.distplot(df['discount_2'])        \n",
    "plt.show()"
   ]
  },
  {
   "cell_type": "code",
   "execution_count": 74,
   "id": "92f362ca",
   "metadata": {},
   "outputs": [
    {
     "data": {
      "text/plain": [
       "<matplotlib.legend.Legend at 0x64b2b006a0>"
      ]
     },
     "execution_count": 74,
     "metadata": {},
     "output_type": "execute_result"
    },
    {
     "data": {
      "image/png": "[encoded data removed]",
      "text/plain": [
       "<Figure size 720x504 with 1 Axes>"
      ]
     },
     "metadata": {
      "needs_background": "light"
     },
     "output_type": "display_data"
    }
   ],
   "source": [
    "## DATA VISUALIZATION ##\n",
    "import matplotlib.pyplot as plt\n",
    "#Bivariate visualization\n",
    "plt.figure(figsize=(10,7))\n",
    "plt.xlabel('Discount_1')\n",
    "plt.ylabel('discount_2')\n",
    "plt.title(\"2 Websites Discounts\")\n",
    "plt.hist(df.Discount_1,bins=10)\n",
    "plt.hist(df.discount_2,bins=10)\n",
    "\n",
    "plt.legend(['Discount_1','discount_2'])"
   ]
  },
  {
   "cell_type": "code",
   "execution_count": 75,
   "id": "bd86e54d",
   "metadata": {},
   "outputs": [
    {
     "data": {
      "text/plain": [
       "<matplotlib.legend.Legend at 0x64b2bf8a60>"
      ]
     },
     "execution_count": 75,
     "metadata": {},
     "output_type": "execute_result"
    },
    {
     "data": {
      "image/png": "[encoded data removed]",
      "text/plain": [
       "<Figure size 720x504 with 1 Axes>"
      ]
     },
     "metadata": {
      "needs_background": "light"
     },
     "output_type": "display_data"
    }
   ],
   "source": [
    "#Multivariate visualization\n",
    "plt.figure(figsize=(10,7))\n",
    "plt.xlabel('Flipkart Price')\n",
    "plt.ylabel('Hp Price')\n",
    "plt.title(\"Price Variations of 2 sites\")\n",
    "plt.hist(df.PRICE_1,bins=10)\n",
    "plt.hist(df.PRICE_2,bins=10)\n",
    "plt.hist(df.price_1,bins=10)\n",
    "plt.hist(df.price_2,bins=10)\n",
    "plt.legend(['PRICE_1','PRICE_2','price_1','price_2'])"
   ]
  },
  {
   "cell_type": "code",
   "execution_count": null,
   "id": "855c215a",
   "metadata": {},
   "outputs": [],
   "source": []
  }
 ],
 "metadata": {
  "kernelspec": {
   "display_name": "Python 3",
   "language": "python",
   "name": "python3"
  },
  "language_info": {
   "codemirror_mode": {
    "name": "ipython",
    "version": 3
   },
   "file_extension": ".py",
   "mimetype": "text/x-python",
   "name": "python",
   "nbconvert_exporter": "python",
   "pygments_lexer": "ipython3",
   "version": "3.8.8"
  }
 },
 "nbformat": 4,
 "nbformat_minor": 5
}
